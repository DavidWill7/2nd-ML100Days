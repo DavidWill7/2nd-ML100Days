{
 "cells": [
  {
   "cell_type": "markdown",
   "metadata": {},
   "source": [
    "## Work\n",
    "1. 試改變 monitor \"Validation Accuracy\" 並比較結果\n",
    "2. 調整 earlystop 的等待次數至 10, 25 並比較結果"
   ]
  },
  {
   "cell_type": "code",
   "execution_count": 1,
   "metadata": {},
   "outputs": [
    {
     "name": "stderr",
     "output_type": "stream",
     "text": [
      "Using TensorFlow backend.\n"
     ]
    }
   ],
   "source": [
    "import os\n",
    "import keras\n",
    "import matplotlib.pyplot as plt\n",
    "%matplotlib inline\n",
    "\n",
    "\n",
    "# Disable GPU\n",
    "os.environ[\"CUDA_VISIBLE_DEVICES\"] = \"\""
   ]
  },
  {
   "cell_type": "code",
   "execution_count": 2,
   "metadata": {},
   "outputs": [],
   "source": [
    "train, test = keras.datasets.cifar10.load_data()"
   ]
  },
  {
   "cell_type": "code",
   "execution_count": 3,
   "metadata": {},
   "outputs": [],
   "source": [
    "## 資料前處理\n",
    "def preproc_x(x, flatten=True):\n",
    "    x = x / 255.\n",
    "    if flatten:\n",
    "        x = x.reshape((len(x), -1))\n",
    "    return x\n",
    "\n",
    "def preproc_y(y, num_classes=10):\n",
    "    if y.shape[-1] == 1:\n",
    "        y = keras.utils.to_categorical(y, num_classes)\n",
    "    return y    "
   ]
  },
  {
   "cell_type": "code",
   "execution_count": 4,
   "metadata": {},
   "outputs": [],
   "source": [
    "x_train, y_train = train\n",
    "x_test, y_test = test\n",
    "\n",
    "# Preproc the inputs\n",
    "x_train = preproc_x(x_train)\n",
    "x_test = preproc_x(x_test)\n",
    "\n",
    "# Preprc the outputs\n",
    "y_train = preproc_y(y_train)\n",
    "y_test = preproc_y(y_test)"
   ]
  },
  {
   "cell_type": "code",
   "execution_count": 9,
   "metadata": {},
   "outputs": [],
   "source": [
    "from keras.layers import BatchNormalization\n",
    "def build_mlp(input_shape,output_units=10,num_neurons=[512,256,128]):\n",
    "    \"\"\"Code Here\n",
    "    建立你的神經網路\n",
    "    \"\"\"\n",
    "    \n",
    "    input_layer = keras.layers.Input(input_shape)\n",
    "    \n",
    "    for i,n_units in enumerate(num_neurons):\n",
    "        if i == 0:\n",
    "            x = keras.layers.Dense(units=n_units,activation='relu',name='hidden_layer'+str(i+1))(input_layer)\n",
    "            x = BatchNormalization()(x)\n",
    "        else:\n",
    "            x = keras.layers.Dense(units=n_units,activation='relu',name='hidden_layer'+str(i+1))(x)\n",
    "            x = BatchNormalization()(x)\n",
    "    out = keras.layers.Dense(units=output_units,activation='softmax',name='output')(x)\n",
    "    \n",
    "    model = keras.models.Model(inputs=[input_layer],outputs=[out])\n",
    "    return model"
   ]
  },
  {
   "cell_type": "code",
   "execution_count": 10,
   "metadata": {},
   "outputs": [],
   "source": [
    "\"\"\"Code Here\n",
    "設定超參數\n",
    "\"\"\"\n",
    "LEARNING_RATE = 1e-3\n",
    "EPOCHS = 50\n",
    "BATCH_SIZE = 1024\n",
    "MOMENTUM = 0.95"
   ]
  },
  {
   "cell_type": "code",
   "execution_count": 17,
   "metadata": {},
   "outputs": [
    {
     "name": "stdout",
     "output_type": "stream",
     "text": [
      "_________________________________________________________________\n",
      "Layer (type)                 Output Shape              Param #   \n",
      "=================================================================\n",
      "input_8 (InputLayer)         (None, 3072)              0         \n",
      "_________________________________________________________________\n",
      "hidden_layer1 (Dense)        (None, 512)               1573376   \n",
      "_________________________________________________________________\n",
      "batch_normalization_19 (Batc (None, 512)               2048      \n",
      "_________________________________________________________________\n",
      "hidden_layer2 (Dense)        (None, 256)               131328    \n",
      "_________________________________________________________________\n",
      "batch_normalization_20 (Batc (None, 256)               1024      \n",
      "_________________________________________________________________\n",
      "hidden_layer3 (Dense)        (None, 128)               32896     \n",
      "_________________________________________________________________\n",
      "batch_normalization_21 (Batc (None, 128)               512       \n",
      "_________________________________________________________________\n",
      "output (Dense)               (None, 10)                1290      \n",
      "=================================================================\n",
      "Total params: 1,742,474\n",
      "Trainable params: 1,740,682\n",
      "Non-trainable params: 1,792\n",
      "_________________________________________________________________\n",
      "Train on 50000 samples, validate on 10000 samples\n",
      "Epoch 1/50\n",
      "50000/50000 [==============================] - 47s 947us/step - loss: 2.2036 - acc: 0.2716 - val_loss: 2.1007 - val_acc: 0.3315\n",
      "Epoch 2/50\n",
      "50000/50000 [==============================] - 26s 523us/step - loss: 1.7384 - acc: 0.3952 - val_loss: 1.7946 - val_acc: 0.3871\n",
      "Epoch 3/50\n",
      "50000/50000 [==============================] - 22s 440us/step - loss: 1.6184 - acc: 0.4327 - val_loss: 1.6970 - val_acc: 0.4121\n",
      "Epoch 4/50\n",
      "50000/50000 [==============================] - 21s 425us/step - loss: 1.5488 - acc: 0.4562 - val_loss: 1.6395 - val_acc: 0.4272\n",
      "Epoch 5/50\n",
      "50000/50000 [==============================] - 24s 477us/step - loss: 1.4935 - acc: 0.4763 - val_loss: 1.6100 - val_acc: 0.4354\n",
      "Epoch 6/50\n",
      "50000/50000 [==============================] - 21s 423us/step - loss: 1.4501 - acc: 0.4911 - val_loss: 1.5729 - val_acc: 0.4524\n",
      "Epoch 7/50\n",
      "50000/50000 [==============================] - 25s 501us/step - loss: 1.4093 - acc: 0.5062 - val_loss: 1.5419 - val_acc: 0.4605\n",
      "Epoch 8/50\n",
      "50000/50000 [==============================] - 25s 505us/step - loss: 1.3746 - acc: 0.5185 - val_loss: 1.5234 - val_acc: 0.4745\n",
      "Epoch 9/50\n",
      "50000/50000 [==============================] - 24s 473us/step - loss: 1.3429 - acc: 0.5299 - val_loss: 1.5248 - val_acc: 0.4614\n",
      "Epoch 10/50\n",
      "50000/50000 [==============================] - 23s 467us/step - loss: 1.3112 - acc: 0.5428 - val_loss: 1.4964 - val_acc: 0.4746\n",
      "Epoch 11/50\n",
      "50000/50000 [==============================] - 24s 471us/step - loss: 1.2822 - acc: 0.5550 - val_loss: 1.4843 - val_acc: 0.4823\n",
      "Epoch 12/50\n",
      "50000/50000 [==============================] - 24s 474us/step - loss: 1.2550 - acc: 0.5631 - val_loss: 1.4807 - val_acc: 0.4827\n",
      "Epoch 13/50\n",
      "50000/50000 [==============================] - 23s 458us/step - loss: 1.2284 - acc: 0.5737 - val_loss: 1.4684 - val_acc: 0.4888\n",
      "Epoch 14/50\n",
      "50000/50000 [==============================] - 23s 464us/step - loss: 1.2040 - acc: 0.5827 - val_loss: 1.4661 - val_acc: 0.4889\n",
      "Epoch 15/50\n",
      "50000/50000 [==============================] - 24s 483us/step - loss: 1.1806 - acc: 0.5942 - val_loss: 1.4679 - val_acc: 0.4858\n",
      "Epoch 16/50\n",
      "50000/50000 [==============================] - 23s 465us/step - loss: 1.1560 - acc: 0.6031 - val_loss: 1.4728 - val_acc: 0.4885\n",
      "Epoch 17/50\n",
      "50000/50000 [==============================] - 24s 475us/step - loss: 1.1338 - acc: 0.6117 - val_loss: 1.4604 - val_acc: 0.4924\n",
      "Epoch 18/50\n",
      "50000/50000 [==============================] - 23s 465us/step - loss: 1.1091 - acc: 0.6190 - val_loss: 1.4506 - val_acc: 0.4953\n",
      "Epoch 19/50\n",
      "50000/50000 [==============================] - 24s 475us/step - loss: 1.0866 - acc: 0.6269 - val_loss: 1.4517 - val_acc: 0.4946\n",
      "Epoch 20/50\n",
      "50000/50000 [==============================] - 24s 475us/step - loss: 1.0642 - acc: 0.6385 - val_loss: 1.4525 - val_acc: 0.4978\n",
      "Epoch 21/50\n",
      "50000/50000 [==============================] - 24s 476us/step - loss: 1.0425 - acc: 0.6461 - val_loss: 1.4634 - val_acc: 0.4953\n",
      "Epoch 22/50\n",
      "50000/50000 [==============================] - 23s 463us/step - loss: 1.0216 - acc: 0.6550 - val_loss: 1.4535 - val_acc: 0.4972\n",
      "Epoch 23/50\n",
      "50000/50000 [==============================] - 24s 476us/step - loss: 1.0009 - acc: 0.6610 - val_loss: 1.4653 - val_acc: 0.4961\n",
      "Epoch 24/50\n",
      "50000/50000 [==============================] - 23s 465us/step - loss: 0.9789 - acc: 0.6711 - val_loss: 1.4576 - val_acc: 0.5024\n",
      "Epoch 25/50\n",
      "50000/50000 [==============================] - 23s 451us/step - loss: 0.9591 - acc: 0.6782 - val_loss: 1.4649 - val_acc: 0.4965\n",
      "Epoch 26/50\n",
      "50000/50000 [==============================] - 23s 455us/step - loss: 0.9386 - acc: 0.6866 - val_loss: 1.4656 - val_acc: 0.4998\n",
      "Epoch 27/50\n",
      "50000/50000 [==============================] - 24s 478us/step - loss: 0.9180 - acc: 0.6950 - val_loss: 1.4599 - val_acc: 0.5027\n",
      "Epoch 28/50\n",
      "50000/50000 [==============================] - 23s 457us/step - loss: 0.8958 - acc: 0.7038 - val_loss: 1.4795 - val_acc: 0.4941\n",
      "Epoch 29/50\n",
      "50000/50000 [==============================] - 22s 449us/step - loss: 0.8749 - acc: 0.7123 - val_loss: 1.4711 - val_acc: 0.5006\n",
      "Epoch 30/50\n",
      "50000/50000 [==============================] - 23s 458us/step - loss: 0.8569 - acc: 0.7190 - val_loss: 1.4964 - val_acc: 0.4925\n",
      "Epoch 31/50\n",
      "50000/50000 [==============================] - 22s 447us/step - loss: 0.8369 - acc: 0.7266 - val_loss: 1.4885 - val_acc: 0.4939\n",
      "Epoch 32/50\n",
      "50000/50000 [==============================] - 23s 454us/step - loss: 0.8172 - acc: 0.7344 - val_loss: 1.4967 - val_acc: 0.4954\n",
      "Epoch 33/50\n",
      "50000/50000 [==============================] - 23s 453us/step - loss: 0.7950 - acc: 0.7437 - val_loss: 1.5109 - val_acc: 0.4959\n",
      "Epoch 34/50\n",
      "50000/50000 [==============================] - 23s 454us/step - loss: 0.7776 - acc: 0.7488 - val_loss: 1.5064 - val_acc: 0.4983\n",
      "Epoch 35/50\n",
      "50000/50000 [==============================] - 23s 458us/step - loss: 0.7588 - acc: 0.7582 - val_loss: 1.5060 - val_acc: 0.4975\n",
      "Epoch 36/50\n",
      "50000/50000 [==============================] - 23s 455us/step - loss: 0.7404 - acc: 0.7647 - val_loss: 1.5350 - val_acc: 0.4931\n",
      "Epoch 37/50\n",
      "50000/50000 [==============================] - 23s 461us/step - loss: 0.7198 - acc: 0.7725 - val_loss: 1.5330 - val_acc: 0.4948\n",
      "Epoch 00037: early stopping\n"
     ]
    }
   ],
   "source": [
    "# 載入 Callbacks\n",
    "\"\"\"Code Here\n",
    "設定 callbacks: Earlystop\n",
    "\"\"\"\n",
    "from keras.callbacks import EarlyStopping\n",
    "earlystopping = EarlyStopping(monitor='val_acc',patience=10,verbose=1)\n",
    "results = {}\n",
    "\"\"\"Code Here\n",
    "撰寫你的訓練流程並將結果用 dictionary 紀錄\n",
    "\"\"\"\n",
    "model = build_mlp(input_shape=x_train.shape[1:])\n",
    "model.summary()\n",
    "optimizer =  keras.optimizers.SGD(lr=LEARNING_RATE,nesterov=True,momentum=MOMENTUM)\n",
    "model.compile(loss=\"categorical_crossentropy\",metrics=['accuracy'],optimizer=optimizer)\n",
    "model.fit(x_train,y_train,epochs=EPOCHS,batch_size=BATCH_SIZE,validation_data=(x_test,y_test),shuffle=True,callbacks=[earlystopping])\n",
    "\n",
    "train_loss = model.history.history['loss']\n",
    "valid_loss = model.history.history['val_loss']\n",
    "train_acc = model.history.history['acc']\n",
    "valid_acc = model.history.history['val_acc']"
   ]
  },
  {
   "cell_type": "code",
   "execution_count": 20,
   "metadata": {},
   "outputs": [
    {
     "data": {
      "image/png": "[encoded data removed]",
      "text/plain": [
       "<Figure size 432x288 with 1 Axes>"
      ]
     },
     "metadata": {
      "needs_background": "light"
     },
     "output_type": "display_data"
    },
    {
     "data": {
      "image/png": "[encoded data removed]",
      "text/plain": [
       "<Figure size 432x288 with 1 Axes>"
      ]
     },
     "metadata": {
      "needs_background": "light"
     },
     "output_type": "display_data"
    }
   ],
   "source": [
    "import matplotlib.pyplot as plt\n",
    "%matplotlib inline\n",
    "\"\"\"Code Here\n",
    "將結果繪出\n",
    "\"\"\"\n",
    "plt.plot(range(len(train_loss)),train_loss,label='train_loss')\n",
    "plt.plot(range(len(valid_loss)),valid_loss,label='valid_loss')\n",
    "plt.legend()\n",
    "plt.title('loss')\n",
    "plt.show()\n",
    "\n",
    "plt.plot(range(len(train_acc)),train_acc,label='train_acc')\n",
    "plt.plot(range(len(valid_acc)),valid_acc,label='valid_acc')\n",
    "plt.legend()\n",
    "plt.title('acc')\n",
    "plt.show()\n",
    "\n"
   ]
  },
  {
   "cell_type": "code",
   "execution_count": 21,
   "metadata": {},
   "outputs": [
    {
     "name": "stdout",
     "output_type": "stream",
     "text": [
      "_________________________________________________________________\n",
      "Layer (type)                 Output Shape              Param #   \n",
      "=================================================================\n",
      "input_9 (InputLayer)         (None, 3072)              0         \n",
      "_________________________________________________________________\n",
      "hidden_layer1 (Dense)        (None, 512)               1573376   \n",
      "_________________________________________________________________\n",
      "batch_normalization_22 (Batc (None, 512)               2048      \n",
      "_________________________________________________________________\n",
      "hidden_layer2 (Dense)        (None, 256)               131328    \n",
      "_________________________________________________________________\n",
      "batch_normalization_23 (Batc (None, 256)               1024      \n",
      "_________________________________________________________________\n",
      "hidden_layer3 (Dense)        (None, 128)               32896     \n",
      "_________________________________________________________________\n",
      "batch_normalization_24 (Batc (None, 128)               512       \n",
      "_________________________________________________________________\n",
      "output (Dense)               (None, 10)                1290      \n",
      "=================================================================\n",
      "Total params: 1,742,474\n",
      "Trainable params: 1,740,682\n",
      "Non-trainable params: 1,792\n",
      "_________________________________________________________________\n",
      "Train on 50000 samples, validate on 10000 samples\n",
      "Epoch 1/50\n",
      "50000/50000 [==============================] - 41s 826us/step - loss: 2.1784 - acc: 0.2773 - val_loss: 2.0727 - val_acc: 0.3259\n",
      "Epoch 2/50\n",
      "50000/50000 [==============================] - 24s 476us/step - loss: 1.7267 - acc: 0.3956 - val_loss: 1.7936 - val_acc: 0.3895\n",
      "Epoch 3/50\n",
      "50000/50000 [==============================] - 22s 447us/step - loss: 1.6080 - acc: 0.4357 - val_loss: 1.6762 - val_acc: 0.4187\n",
      "Epoch 4/50\n",
      "50000/50000 [==============================] - 22s 439us/step - loss: 1.5388 - acc: 0.4631 - val_loss: 1.6164 - val_acc: 0.4338\n",
      "Epoch 5/50\n",
      "50000/50000 [==============================] - 23s 461us/step - loss: 1.4858 - acc: 0.4815 - val_loss: 1.5833 - val_acc: 0.4423\n",
      "Epoch 6/50\n",
      "50000/50000 [==============================] - 25s 491us/step - loss: 1.4429 - acc: 0.4964 - val_loss: 1.5541 - val_acc: 0.4533\n",
      "Epoch 7/50\n",
      "50000/50000 [==============================] - 23s 459us/step - loss: 1.4024 - acc: 0.5115 - val_loss: 1.5445 - val_acc: 0.4524\n",
      "Epoch 8/50\n",
      "50000/50000 [==============================] - 26s 524us/step - loss: 1.3702 - acc: 0.5237 - val_loss: 1.5263 - val_acc: 0.4572\n",
      "Epoch 9/50\n",
      "50000/50000 [==============================] - 25s 494us/step - loss: 1.3369 - acc: 0.5355 - val_loss: 1.5198 - val_acc: 0.4663\n",
      "Epoch 10/50\n",
      "50000/50000 [==============================] - 24s 485us/step - loss: 1.3090 - acc: 0.5460 - val_loss: 1.5023 - val_acc: 0.4670\n",
      "Epoch 11/50\n",
      "50000/50000 [==============================] - 23s 459us/step - loss: 1.2807 - acc: 0.5554 - val_loss: 1.4877 - val_acc: 0.4739\n",
      "Epoch 12/50\n",
      "50000/50000 [==============================] - 26s 526us/step - loss: 1.2538 - acc: 0.5660 - val_loss: 1.4751 - val_acc: 0.4755\n",
      "Epoch 13/50\n",
      "50000/50000 [==============================] - 23s 466us/step - loss: 1.2270 - acc: 0.5770 - val_loss: 1.4792 - val_acc: 0.4748\n",
      "Epoch 14/50\n",
      "50000/50000 [==============================] - 24s 470us/step - loss: 1.2029 - acc: 0.5846 - val_loss: 1.4814 - val_acc: 0.4769\n",
      "Epoch 15/50\n",
      "50000/50000 [==============================] - 24s 483us/step - loss: 1.1783 - acc: 0.5945 - val_loss: 1.4780 - val_acc: 0.4852\n",
      "Epoch 16/50\n",
      "50000/50000 [==============================] - 25s 500us/step - loss: 1.1557 - acc: 0.6024 - val_loss: 1.4635 - val_acc: 0.4826\n",
      "Epoch 17/50\n",
      "50000/50000 [==============================] - 23s 459us/step - loss: 1.1325 - acc: 0.6124 - val_loss: 1.4577 - val_acc: 0.4843\n",
      "Epoch 18/50\n",
      "50000/50000 [==============================] - 24s 480us/step - loss: 1.1081 - acc: 0.6197 - val_loss: 1.4541 - val_acc: 0.4848\n",
      "Epoch 19/50\n",
      "50000/50000 [==============================] - 23s 460us/step - loss: 1.0862 - acc: 0.6280 - val_loss: 1.4467 - val_acc: 0.4884\n",
      "Epoch 20/50\n",
      "50000/50000 [==============================] - 24s 472us/step - loss: 1.0643 - acc: 0.6382 - val_loss: 1.4498 - val_acc: 0.4918\n",
      "Epoch 21/50\n",
      "50000/50000 [==============================] - 33s 653us/step - loss: 1.0424 - acc: 0.6447 - val_loss: 1.4536 - val_acc: 0.4909\n",
      "Epoch 22/50\n",
      "50000/50000 [==============================] - 32s 642us/step - loss: 1.0222 - acc: 0.6531 - val_loss: 1.4576 - val_acc: 0.4932\n",
      "Epoch 23/50\n",
      "50000/50000 [==============================] - 28s 556us/step - loss: 1.0030 - acc: 0.6604 - val_loss: 1.4677 - val_acc: 0.4904\n",
      "Epoch 24/50\n",
      "50000/50000 [==============================] - 28s 556us/step - loss: 0.9811 - acc: 0.6667 - val_loss: 1.4615 - val_acc: 0.4889\n",
      "Epoch 25/50\n",
      "50000/50000 [==============================] - 26s 519us/step - loss: 0.9595 - acc: 0.6776 - val_loss: 1.4618 - val_acc: 0.4917\n",
      "Epoch 26/50\n",
      "50000/50000 [==============================] - 23s 466us/step - loss: 0.9387 - acc: 0.6848 - val_loss: 1.4624 - val_acc: 0.4864\n",
      "Epoch 27/50\n",
      "50000/50000 [==============================] - 25s 505us/step - loss: 0.9182 - acc: 0.6930 - val_loss: 1.4734 - val_acc: 0.4876\n",
      "Epoch 28/50\n",
      "50000/50000 [==============================] - 24s 470us/step - loss: 0.8971 - acc: 0.7017 - val_loss: 1.4715 - val_acc: 0.4933\n",
      "Epoch 29/50\n",
      "50000/50000 [==============================] - 24s 473us/step - loss: 0.8796 - acc: 0.7087 - val_loss: 1.4770 - val_acc: 0.4915\n",
      "Epoch 30/50\n",
      "50000/50000 [==============================] - 24s 486us/step - loss: 0.8594 - acc: 0.7156 - val_loss: 1.4820 - val_acc: 0.4914\n",
      "Epoch 31/50\n",
      "50000/50000 [==============================] - 25s 492us/step - loss: 0.8392 - acc: 0.7250 - val_loss: 1.4887 - val_acc: 0.4928\n",
      "Epoch 32/50\n",
      "50000/50000 [==============================] - 25s 495us/step - loss: 0.8206 - acc: 0.7327 - val_loss: 1.4953 - val_acc: 0.4889\n",
      "Epoch 33/50\n",
      "50000/50000 [==============================] - 24s 474us/step - loss: 0.8002 - acc: 0.7412 - val_loss: 1.4949 - val_acc: 0.4913\n",
      "Epoch 34/50\n",
      "50000/50000 [==============================] - 23s 457us/step - loss: 0.7808 - acc: 0.7491 - val_loss: 1.5077 - val_acc: 0.4918\n",
      "Epoch 35/50\n",
      "50000/50000 [==============================] - 23s 465us/step - loss: 0.7603 - acc: 0.7573 - val_loss: 1.5233 - val_acc: 0.4905\n",
      "Epoch 36/50\n",
      "50000/50000 [==============================] - 23s 456us/step - loss: 0.7429 - acc: 0.7628 - val_loss: 1.5203 - val_acc: 0.4929\n",
      "Epoch 37/50\n",
      "50000/50000 [==============================] - 23s 460us/step - loss: 0.7227 - acc: 0.7717 - val_loss: 1.5196 - val_acc: 0.4908\n",
      "Epoch 38/50\n",
      "50000/50000 [==============================] - 23s 457us/step - loss: 0.7059 - acc: 0.7770 - val_loss: 1.5549 - val_acc: 0.4830\n",
      "Epoch 39/50\n",
      "50000/50000 [==============================] - 23s 457us/step - loss: 0.6855 - acc: 0.7856 - val_loss: 1.5592 - val_acc: 0.4866\n",
      "Epoch 40/50\n",
      "50000/50000 [==============================] - 23s 466us/step - loss: 0.6666 - acc: 0.7928 - val_loss: 1.5634 - val_acc: 0.4854\n",
      "Epoch 41/50\n",
      "50000/50000 [==============================] - 23s 459us/step - loss: 0.6494 - acc: 0.7983 - val_loss: 1.5769 - val_acc: 0.4878\n",
      "Epoch 42/50\n",
      "50000/50000 [==============================] - 23s 464us/step - loss: 0.6309 - acc: 0.8079 - val_loss: 1.5852 - val_acc: 0.4861\n",
      "Epoch 43/50\n",
      "50000/50000 [==============================] - 23s 461us/step - loss: 0.6137 - acc: 0.8135 - val_loss: 1.6270 - val_acc: 0.4803\n",
      "Epoch 44/50\n",
      "50000/50000 [==============================] - 25s 505us/step - loss: 0.5968 - acc: 0.8215 - val_loss: 1.6106 - val_acc: 0.4873\n",
      "Epoch 45/50\n",
      "50000/50000 [==============================] - 23s 460us/step - loss: 0.5774 - acc: 0.8285 - val_loss: 1.6223 - val_acc: 0.4825\n",
      "Epoch 46/50\n",
      "50000/50000 [==============================] - 32s 638us/step - loss: 0.5594 - acc: 0.8360 - val_loss: 1.6155 - val_acc: 0.4821\n",
      "Epoch 47/50\n",
      "50000/50000 [==============================] - 22s 450us/step - loss: 0.5421 - acc: 0.8421 - val_loss: 1.6352 - val_acc: 0.4870\n",
      "Epoch 48/50\n",
      "50000/50000 [==============================] - 26s 524us/step - loss: 0.5267 - acc: 0.8491 - val_loss: 1.6560 - val_acc: 0.4861\n",
      "Epoch 49/50\n"
     ]
    },
    {
     "name": "stdout",
     "output_type": "stream",
     "text": [
      "50000/50000 [==============================] - 27s 537us/step - loss: 0.5090 - acc: 0.8557 - val_loss: 1.6721 - val_acc: 0.4833\n",
      "Epoch 50/50\n",
      "50000/50000 [==============================] - 25s 498us/step - loss: 0.4937 - acc: 0.8611 - val_loss: 1.6761 - val_acc: 0.4811\n"
     ]
    }
   ],
   "source": [
    "# 載入 Callbacks\n",
    "\"\"\"Code Here\n",
    "設定 callbacks: Earlystop\n",
    "\"\"\"\n",
    "from keras.callbacks import EarlyStopping\n",
    "earlystopping = EarlyStopping(monitor='val_acc',patience=25,verbose=1)\n",
    "results = {}\n",
    "\"\"\"Code Here\n",
    "撰寫你的訓練流程並將結果用 dictionary 紀錄\n",
    "\"\"\"\n",
    "model = build_mlp(input_shape=x_train.shape[1:])\n",
    "model.summary()\n",
    "optimizer =  keras.optimizers.SGD(lr=LEARNING_RATE,nesterov=True,momentum=MOMENTUM)\n",
    "model.compile(loss=\"categorical_crossentropy\",metrics=['accuracy'],optimizer=optimizer)\n",
    "model.fit(x_train,y_train,epochs=EPOCHS,batch_size=BATCH_SIZE,validation_data=(x_test,y_test),shuffle=True,callbacks=[earlystopping])\n",
    "\n",
    "train_loss = model.history.history['loss']\n",
    "valid_loss = model.history.history['val_loss']\n",
    "train_acc = model.history.history['acc']\n",
    "valid_acc = model.history.history['val_acc']"
   ]
  },
  {
   "cell_type": "code",
   "execution_count": 22,
   "metadata": {},
   "outputs": [
    {
     "data": {
      "image/png": "[encoded data removed]",
      "text/plain": [
       "<Figure size 432x288 with 1 Axes>"
      ]
     },
     "metadata": {
      "needs_background": "light"
     },
     "output_type": "display_data"
    },
    {
     "data": {
      "image/png": "[encoded data removed]",
      "text/plain": [
       "<Figure size 432x288 with 1 Axes>"
      ]
     },
     "metadata": {
      "needs_background": "light"
     },
     "output_type": "display_data"
    }
   ],
   "source": [
    "import matplotlib.pyplot as plt\n",
    "%matplotlib inline\n",
    "\"\"\"Code Here\n",
    "將結果繪出\n",
    "\"\"\"\n",
    "plt.plot(range(len(train_loss)),train_loss,label='train_loss')\n",
    "plt.plot(range(len(valid_loss)),valid_loss,label='valid_loss')\n",
    "plt.legend()\n",
    "plt.title('loss')\n",
    "plt.show()\n",
    "\n",
    "plt.plot(range(len(train_acc)),train_acc,label='train_acc')\n",
    "plt.plot(range(len(valid_acc)),valid_acc,label='valid_acc')\n",
    "plt.legend()\n",
    "plt.title('acc')\n",
    "plt.show()"
   ]
  }
 ],
 "metadata": {
  "kernelspec": {
   "display_name": "Python 3",
   "language": "python",
   "name": "python3"
  },
  "language_info": {
   "codemirror_mode": {
    "name": "ipython",
    "version": 3
   },
   "file_extension": ".py",
   "mimetype": "text/x-python",
   "name": "python",
   "nbconvert_exporter": "python",
   "pygments_lexer": "ipython3",
   "version": "3.7.3"
  }
 },
 "nbformat": 4,
 "nbformat_minor": 2
}
