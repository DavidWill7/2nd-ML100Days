{
 "cells": [
  {
   "cell_type": "markdown",
   "metadata": {},
   "source": [
    "## [作業重點]\n",
    "使用 Sklearn 中的 Lasso, Ridge 模型，來訓練各種資料集，務必了解送進去模型訓練的**資料型態**為何，也請了解模型中各項參數的意義。\n",
    "\n",
    "機器學習的模型非常多種，但要訓練的資料多半有固定的格式，確保你了解訓練資料的格式為何，這樣在應用新模型時，就能夠最快的上手開始訓練！"
   ]
  },
  {
   "cell_type": "markdown",
   "metadata": {},
   "source": [
    "## 練習時間\n",
    "試著使用 sklearn datasets 的其他資料集 (boston, ...)，來訓練自己的線性迴歸模型，並加上適當的正則話來觀察訓練情形。"
   ]
  },
  {
   "cell_type": "code",
   "execution_count": 17,
   "metadata": {},
   "outputs": [
    {
     "name": "stdout",
     "output_type": "stream",
     "text": [
      "Linear_coef: [-1.22569795e-01  5.56776996e-02 -8.83428230e-03  4.69344849e+00\n",
      " -1.44357828e+01  3.28008033e+00 -3.44778157e-03 -1.55214419e+00\n",
      "  3.26249618e-01 -1.40665500e-02 -8.03274915e-01  9.35368715e-03\n",
      " -5.23477529e-01]\n",
      "MSE: 30.068160533746806\n"
     ]
    }
   ],
   "source": [
    "import numpy as np\n",
    "import matplotlib.pyplot as plt\n",
    "from sklearn.model_selection import train_test_split\n",
    "from sklearn import datasets,linear_model\n",
    "from sklearn.metrics import mean_squared_error,r2_score\n",
    "\n",
    "data = datasets.load_boston()\n",
    "\n",
    "x_train,x_test,y_train,y_test = train_test_split(data.data,data.target,test_size=0.3,random_state=4)\n",
    "\n",
    "linear = linear_model.LinearRegression()\n",
    "\n",
    "linear.fit(x_train,y_train)\n",
    "\n",
    "y_pred = linear.predict(x_test)\n",
    "\n",
    "print(\"Linear_coef:\",linear.coef_)\n",
    "\n",
    "mse = mean_squared_error(y_test,y_pred)\n",
    "\n",
    "print(\"MSE:\",mse)"
   ]
  },
  {
   "cell_type": "code",
   "execution_count": 18,
   "metadata": {},
   "outputs": [
    {
     "name": "stdout",
     "output_type": "stream",
     "text": [
      "Lasso_coef: [-0.07960576  0.05692846 -0.01455237  0.         -0.          0.14020219\n",
      "  0.02303066 -0.81626973  0.29846294 -0.01755403 -0.60533766  0.00809172\n",
      " -0.77202042]\n",
      "MSE: 37.89715760332676\n"
     ]
    }
   ],
   "source": [
    "import numpy as np\n",
    "import matplotlib.pyplot as plt\n",
    "from sklearn.model_selection import train_test_split\n",
    "from sklearn import datasets,linear_model\n",
    "from sklearn.metrics import mean_squared_error,r2_score\n",
    "\n",
    "data = datasets.load_boston()\n",
    "\n",
    "x_train,x_test,y_train,y_test = train_test_split(data.data,data.target,test_size=0.3,random_state=4)\n",
    "\n",
    "lasso = linear_model.Lasso(alpha=1)\n",
    "\n",
    "lasso.fit(x_train,y_train)\n",
    "\n",
    "y_pred = lasso.predict(x_test)\n",
    "\n",
    "print(\"Lasso_coef:\",lasso.coef_)\n",
    "\n",
    "mse = mean_squared_error(y_test,y_pred)\n",
    "\n",
    "print(\"MSE:\",mse)"
   ]
  },
  {
   "cell_type": "code",
   "execution_count": 13,
   "metadata": {},
   "outputs": [
    {
     "name": "stdout",
     "output_type": "stream",
     "text": [
      "Lasso_coef: [-0.11954724  0.05612783 -0.03858704  4.34606667 -7.60268295  3.32102265\n",
      " -0.009666   -1.45160567  0.31271137 -0.01457586 -0.73714778  0.00972169\n",
      " -0.53314489]\n",
      "MSE: 30.446756125185857\n"
     ]
    }
   ],
   "source": [
    "import numpy as np\n",
    "import matplotlib.pyplot as plt\n",
    "from sklearn.model_selection import train_test_split\n",
    "from sklearn import datasets,linear_model\n",
    "from sklearn.metrics import mean_squared_error,r2_score\n",
    "\n",
    "data = datasets.load_boston()\n",
    "\n",
    "x_train,x_test,y_train,y_test = train_test_split(data.data,data.target,test_size=0.3,random_state=4)\n",
    "\n",
    "ridge = linear_model.Ridge(alpha=1)\n",
    "\n",
    "ridge.fit(x_train,y_train)\n",
    "\n",
    "y_pred = ridge.predict(x_test)\n",
    "\n",
    "print(\"Lasso_coef:\",ridge.coef_)\n",
    "\n",
    "mse = mean_squared_error(y_test,y_pred)\n",
    "\n",
    "print(\"MSE:\",mse)"
   ]
  },
  {
   "cell_type": "code",
   "execution_count": null,
   "metadata": {},
   "outputs": [],
   "source": []
  }
 ],
 "metadata": {
  "kernelspec": {
   "display_name": "Python 3",
   "language": "python",
   "name": "python3"
  },
  "language_info": {
   "codemirror_mode": {
    "name": "ipython",
    "version": 3
   },
   "file_extension": ".py",
   "mimetype": "text/x-python",
   "name": "python",
   "nbconvert_exporter": "python",
   "pygments_lexer": "ipython3",
   "version": "3.7.0"
  }
 },
 "nbformat": 4,
 "nbformat_minor": 2
}
