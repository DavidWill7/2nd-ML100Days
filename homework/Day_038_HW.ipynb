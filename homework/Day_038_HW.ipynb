{
 "cells": [
  {
   "cell_type": "markdown",
   "metadata": {},
   "source": [
    "## [作業重點]\n",
    "使用 Sklearn 中的線性迴歸模型，來訓練各種資料集，務必了解送進去模型訓練的**資料型態**為何，也請了解模型中各項參數的意義"
   ]
  },
  {
   "cell_type": "markdown",
   "metadata": {},
   "source": [
    "## 作業\n",
    "試著使用 sklearn datasets 的其他資料集 (wine, boston, ...)，來訓練自己的線性迴歸模型。"
   ]
  },
  {
   "cell_type": "markdown",
   "metadata": {},
   "source": [
    "### HINT: 注意 label 的型態，確定資料集的目標是分類還是回歸，在使用正確的模型訓練！"
   ]
  },
  {
   "cell_type": "code",
   "execution_count": 11,
   "metadata": {},
   "outputs": [
    {
     "name": "stdout",
     "output_type": "stream",
     "text": [
      "Accuracy 0.9074074074074074\n"
     ]
    }
   ],
   "source": [
    "import numpy as np\n",
    "import pandas as pd \n",
    "import matplotlib.pyplot as plt\n",
    "from sklearn import datasets ,linear_model\n",
    "from sklearn.model_selection import train_test_split\n",
    "from sklearn.metrics import mean_squared_error, r2_score,accuracy_score\n",
    "\n",
    "wine = datasets.load_wine()\n",
    "\n",
    "x_train , x_test, y_train , y_test = train_test_split(wine.data,wine.target,test_size=0.3,random_state=3)\n",
    "\n",
    "clf = linear_model.LogisticRegression()\n",
    "\n",
    "clf = clf.fit(x_train,y_train)\n",
    "\n",
    "pred = clf.predict(x_test)\n",
    "\n",
    "acc = accuracy_score(y_test,pred)\n",
    "print(\"Accuracy\",acc)\n"
   ]
  },
  {
   "cell_type": "code",
   "execution_count": 34,
   "metadata": {},
   "outputs": [
    {
     "name": "stdout",
     "output_type": "stream",
     "text": [
      "MSE: 22.439795425064936\n",
      "R2_score: 0.714689598929432\n"
     ]
    }
   ],
   "source": [
    "boston = datasets.load_boston()\n",
    "\n",
    "x_train , x_test, y_train , y_test = train_test_split(boston.data,boston.target,test_size=0.3,random_state=3)\n",
    "\n",
    "clf = linear_model.LinearRegression()\n",
    "\n",
    "clf = clf.fit(x_train,y_train)\n",
    "\n",
    "pred = clf.predict(x_test)\n",
    "\n",
    "print(\"MSE:\",mean_squared_error(y_test,pred))\n",
    "\n",
    "print(\"R2_score:\",r2_score(y_test,pred))"
   ]
  },
  {
   "cell_type": "code",
   "execution_count": null,
   "metadata": {},
   "outputs": [],
   "source": []
  }
 ],
 "metadata": {
  "kernelspec": {
   "display_name": "Python 3",
   "language": "python",
   "name": "python3"
  },
  "language_info": {
   "codemirror_mode": {
    "name": "ipython",
    "version": 3
   },
   "file_extension": ".py",
   "mimetype": "text/x-python",
   "name": "python",
   "nbconvert_exporter": "python",
   "pygments_lexer": "ipython3",
   "version": "3.7.0"
  }
 },
 "nbformat": 4,
 "nbformat_minor": 2
}
