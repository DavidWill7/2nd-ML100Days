{
 "cells": [
  {
   "cell_type": "markdown",
   "metadata": {},
   "source": [
    "## Work\n",
    "1. 請嘗試將 preproc_x 替換成以每筆資料的 min/max 進行標準化至 -1 ~ 1 間，再進行訓練\n",
    "2. 請嘗試將 mlp 疊更深 (e.g 5~10 層)，進行訓練後觀察 learning curve 的走勢\n",
    "3. (optional) 請改用 GPU 進行訓練 (如果你有 GPU 的話)，比較使用 CPU 與 GPU 的訓練速度"
   ]
  },
  {
   "cell_type": "code",
   "execution_count": 2,
   "metadata": {},
   "outputs": [
    {
     "name": "stderr",
     "output_type": "stream",
     "text": [
      "'nvidia-smi' 不是內部或外部命令、可執行的程式或批次檔。\n"
     ]
    }
   ],
   "source": [
    "## \n",
    "\"\"\"\n",
    "Your code here (optional)\n",
    "確認硬體資源\n",
    "\"\"\"\n",
    "!nvidia-smi"
   ]
  },
  {
   "cell_type": "code",
   "execution_count": 3,
   "metadata": {},
   "outputs": [
    {
     "name": "stderr",
     "output_type": "stream",
     "text": [
      "Using TensorFlow backend.\n"
     ]
    }
   ],
   "source": [
    "import os\n",
    "import keras\n",
    "from sklearn.preprocessing import MaxAbsScaler\n",
    "# 請嘗試設定 GPU：os.environ\n"
   ]
  },
  {
   "cell_type": "code",
   "execution_count": 4,
   "metadata": {},
   "outputs": [],
   "source": [
    "train, test = keras.datasets.cifar10.load_data()"
   ]
  },
  {
   "cell_type": "code",
   "execution_count": 18,
   "metadata": {},
   "outputs": [],
   "source": [
    "## 資料前處理\n",
    "\"\"\"\n",
    "Your code here\n",
    "\"\"\"\n",
    "\n",
    "def preproc_x(x,flatten=True):\n",
    "    \n",
    "    x = ((x-x.mean()) / (x.max()-x.min()))\n",
    "    \n",
    "    if flatten:\n",
    "        x = x.reshape((len(x), -1))\n",
    "        \n",
    "    return x\n",
    "\n",
    "def preproc_y(y,num_classes=10):\n",
    "    if y.shape[-1] == 1:\n",
    "        y = keras.utils.to_categorical(y, num_classes)\n",
    "    return y    \n",
    "   "
   ]
  },
  {
   "cell_type": "code",
   "execution_count": 19,
   "metadata": {},
   "outputs": [],
   "source": [
    "x_train, y_train = train\n",
    "x_test, y_test = test\n",
    "\n",
    "# Preproc the inputs\n",
    "x_train = preproc_x(x_train)\n",
    "x_test = preproc_x(x_test)\n",
    "\n",
    "# Preprc the outputs\n",
    "y_train = preproc_y(y_train)\n",
    "y_test = preproc_y(y_test)"
   ]
  },
  {
   "cell_type": "code",
   "execution_count": 27,
   "metadata": {},
   "outputs": [],
   "source": [
    "\"\"\"Code Here\n",
    "建立你的神經網路\n",
    "\"\"\"\n",
    "def build_mlp(input_shape,output_units=10,num_neurons=[512,256,128,64,32,16,8]):\n",
    "    input_layer = keras.layers.Input(input_shape)\n",
    "    \n",
    "    for i, n_units in enumerate(num_neurons):\n",
    "        if i == 0:\n",
    "            x = keras.layers.Dense(units=n_units,activation='relu',name=\"hidden_layer\"+str(i+1))(input_layer)\n",
    "        else:\n",
    "            x = keras.layers.Dense(units=n_units,activation='relu',name=\"hidden_layer\"+str(i+1))(x)\n",
    "            \n",
    "    out = keras.layers.Dense(units=output_units,activation='softmax',name='output')(x)\n",
    "    \n",
    "    model = keras.models.Model(inputs=[input_layer],outputs=[out])\n",
    "    \n",
    "    return model\n",
    "    \n",
    "\n"
   ]
  },
  {
   "cell_type": "code",
   "execution_count": 28,
   "metadata": {},
   "outputs": [
    {
     "name": "stdout",
     "output_type": "stream",
     "text": [
      "_________________________________________________________________\n",
      "Layer (type)                 Output Shape              Param #   \n",
      "=================================================================\n",
      "input_4 (InputLayer)         (None, 3072)              0         \n",
      "_________________________________________________________________\n",
      "hidden_layer1 (Dense)        (None, 512)               1573376   \n",
      "_________________________________________________________________\n",
      "hidden_layer2 (Dense)        (None, 256)               131328    \n",
      "_________________________________________________________________\n",
      "hidden_layer3 (Dense)        (None, 128)               32896     \n",
      "_________________________________________________________________\n",
      "hidden_layer4 (Dense)        (None, 64)                8256      \n",
      "_________________________________________________________________\n",
      "hidden_layer5 (Dense)        (None, 32)                2080      \n",
      "_________________________________________________________________\n",
      "hidden_layer6 (Dense)        (None, 16)                528       \n",
      "_________________________________________________________________\n",
      "hidden_layer7 (Dense)        (None, 8)                 136       \n",
      "_________________________________________________________________\n",
      "output (Dense)               (None, 10)                90        \n",
      "=================================================================\n",
      "Total params: 1,748,690\n",
      "Trainable params: 1,748,690\n",
      "Non-trainable params: 0\n",
      "_________________________________________________________________\n"
     ]
    }
   ],
   "source": [
    "model = build_mlp(input_shape=x_train.shape[1:])\n",
    "model.summary()"
   ]
  },
  {
   "cell_type": "code",
   "execution_count": 29,
   "metadata": {},
   "outputs": [],
   "source": [
    "## 超參數設定\n",
    "LEARNING_RATE = 0.001\n",
    "EPOCHS = 100\n",
    "BATCH_SIZE = 256"
   ]
  },
  {
   "cell_type": "code",
   "execution_count": 30,
   "metadata": {},
   "outputs": [],
   "source": [
    "optimizer = keras.optimizers.Adam(lr=LEARNING_RATE)\n",
    "model.compile(loss=\"categorical_crossentropy\", metrics=[\"accuracy\"], optimizer=optimizer)"
   ]
  },
  {
   "cell_type": "code",
   "execution_count": 31,
   "metadata": {},
   "outputs": [
    {
     "name": "stdout",
     "output_type": "stream",
     "text": [
      "WARNING:tensorflow:From C:\\Users\\mcut\\Anaconda3\\lib\\site-packages\\tensorflow\\python\\ops\\math_ops.py:3066: to_int32 (from tensorflow.python.ops.math_ops) is deprecated and will be removed in a future version.\n",
      "Instructions for updating:\n",
      "Use tf.cast instead.\n",
      "Train on 50000 samples, validate on 10000 samples\n",
      "Epoch 1/100\n",
      "50000/50000 [==============================] - 16s 325us/step - loss: 2.0289 - acc: 0.2670 - val_loss: 1.8233 - val_acc: 0.3424\n",
      "Epoch 2/100\n",
      "50000/50000 [==============================] - 9s 171us/step - loss: 1.6927 - acc: 0.4034 - val_loss: 1.6136 - val_acc: 0.4333\n",
      "Epoch 3/100\n",
      "50000/50000 [==============================] - 8s 170us/step - loss: 1.5165 - acc: 0.4664 - val_loss: 1.5200 - val_acc: 0.4697\n",
      "Epoch 4/100\n",
      "50000/50000 [==============================] - 9s 172us/step - loss: 1.3972 - acc: 0.5086 - val_loss: 1.4512 - val_acc: 0.4977\n",
      "Epoch 5/100\n",
      "50000/50000 [==============================] - 9s 171us/step - loss: 1.2971 - acc: 0.5436 - val_loss: 1.4040 - val_acc: 0.5099\n",
      "Epoch 6/100\n",
      "50000/50000 [==============================] - 9s 172us/step - loss: 1.2159 - acc: 0.5705 - val_loss: 1.4051 - val_acc: 0.5178\n",
      "Epoch 7/100\n",
      "50000/50000 [==============================] - 9s 173us/step - loss: 1.1353 - acc: 0.5972 - val_loss: 1.3856 - val_acc: 0.5238\n",
      "Epoch 8/100\n",
      "50000/50000 [==============================] - 9s 172us/step - loss: 1.0617 - acc: 0.6206 - val_loss: 1.3876 - val_acc: 0.5334\n",
      "Epoch 9/100\n",
      "50000/50000 [==============================] - 9s 170us/step - loss: 0.9911 - acc: 0.6472 - val_loss: 1.4101 - val_acc: 0.5271\n",
      "Epoch 10/100\n",
      "50000/50000 [==============================] - 9s 171us/step - loss: 0.9247 - acc: 0.6671 - val_loss: 1.4972 - val_acc: 0.5230\n",
      "Epoch 11/100\n",
      "50000/50000 [==============================] - 9s 178us/step - loss: 0.8619 - acc: 0.6917 - val_loss: 1.4884 - val_acc: 0.5365\n",
      "Epoch 12/100\n",
      "50000/50000 [==============================] - 9s 173us/step - loss: 0.7898 - acc: 0.7151 - val_loss: 1.5311 - val_acc: 0.5285\n",
      "Epoch 13/100\n",
      "50000/50000 [==============================] - 9s 172us/step - loss: 0.7387 - acc: 0.7311 - val_loss: 1.5987 - val_acc: 0.5328\n",
      "Epoch 14/100\n",
      "50000/50000 [==============================] - 9s 173us/step - loss: 0.6850 - acc: 0.7502 - val_loss: 1.6362 - val_acc: 0.5393\n",
      "Epoch 15/100\n",
      "50000/50000 [==============================] - 9s 173us/step - loss: 0.6230 - acc: 0.7729 - val_loss: 1.7015 - val_acc: 0.5321\n",
      "Epoch 16/100\n",
      "50000/50000 [==============================] - 9s 172us/step - loss: 0.5695 - acc: 0.7912 - val_loss: 1.8356 - val_acc: 0.5301\n",
      "Epoch 17/100\n",
      "50000/50000 [==============================] - 9s 172us/step - loss: 0.5370 - acc: 0.8041 - val_loss: 1.8527 - val_acc: 0.5373\n",
      "Epoch 18/100\n",
      "50000/50000 [==============================] - 9s 172us/step - loss: 0.4943 - acc: 0.8191 - val_loss: 1.9778 - val_acc: 0.5289\n",
      "Epoch 19/100\n",
      "50000/50000 [==============================] - 9s 173us/step - loss: 0.4500 - acc: 0.8345 - val_loss: 2.0350 - val_acc: 0.5320\n",
      "Epoch 20/100\n",
      "50000/50000 [==============================] - 9s 172us/step - loss: 0.4310 - acc: 0.8425 - val_loss: 2.0950 - val_acc: 0.5300\n",
      "Epoch 21/100\n",
      "50000/50000 [==============================] - 9s 174us/step - loss: 0.3923 - acc: 0.8568 - val_loss: 2.2780 - val_acc: 0.5361\n",
      "Epoch 22/100\n",
      "50000/50000 [==============================] - 9s 174us/step - loss: 0.3724 - acc: 0.8627 - val_loss: 2.2973 - val_acc: 0.5318\n",
      "Epoch 23/100\n",
      "50000/50000 [==============================] - 9s 172us/step - loss: 0.3530 - acc: 0.8728 - val_loss: 2.3337 - val_acc: 0.5340\n",
      "Epoch 24/100\n",
      "50000/50000 [==============================] - 9s 174us/step - loss: 0.3153 - acc: 0.8845 - val_loss: 2.4496 - val_acc: 0.5252\n",
      "Epoch 25/100\n",
      "50000/50000 [==============================] - 9s 174us/step - loss: 0.3085 - acc: 0.8881 - val_loss: 2.4417 - val_acc: 0.5311\n",
      "Epoch 26/100\n",
      "50000/50000 [==============================] - 9s 173us/step - loss: 0.2787 - acc: 0.8993 - val_loss: 2.6347 - val_acc: 0.5336\n",
      "Epoch 27/100\n",
      "50000/50000 [==============================] - 9s 172us/step - loss: 0.2653 - acc: 0.9060 - val_loss: 2.6920 - val_acc: 0.5269\n",
      "Epoch 28/100\n",
      "50000/50000 [==============================] - 9s 175us/step - loss: 0.2654 - acc: 0.9041 - val_loss: 2.7664 - val_acc: 0.5304\n",
      "Epoch 29/100\n",
      "50000/50000 [==============================] - 9s 174us/step - loss: 0.2277 - acc: 0.9174 - val_loss: 2.8542 - val_acc: 0.5289\n",
      "Epoch 30/100\n",
      "50000/50000 [==============================] - 9s 172us/step - loss: 0.2361 - acc: 0.9148 - val_loss: 2.8433 - val_acc: 0.5306\n",
      "Epoch 31/100\n",
      "50000/50000 [==============================] - 9s 172us/step - loss: 0.2227 - acc: 0.9202 - val_loss: 2.9538 - val_acc: 0.5290\n",
      "Epoch 32/100\n",
      "50000/50000 [==============================] - 9s 173us/step - loss: 0.2029 - acc: 0.9289 - val_loss: 2.9962 - val_acc: 0.5205\n",
      "Epoch 33/100\n",
      "50000/50000 [==============================] - 9s 173us/step - loss: 0.2021 - acc: 0.9293 - val_loss: 3.1011 - val_acc: 0.5242\n",
      "Epoch 34/100\n",
      "50000/50000 [==============================] - 9s 178us/step - loss: 0.1882 - acc: 0.9332 - val_loss: 3.0890 - val_acc: 0.5304\n",
      "Epoch 35/100\n",
      "50000/50000 [==============================] - 9s 174us/step - loss: 0.1914 - acc: 0.9326 - val_loss: 3.1472 - val_acc: 0.5245\n",
      "Epoch 36/100\n",
      "50000/50000 [==============================] - 9s 173us/step - loss: 0.1754 - acc: 0.9385 - val_loss: 3.1232 - val_acc: 0.5241\n",
      "Epoch 37/100\n",
      "50000/50000 [==============================] - 9s 172us/step - loss: 0.1818 - acc: 0.9372 - val_loss: 3.1402 - val_acc: 0.5260\n",
      "Epoch 38/100\n",
      "50000/50000 [==============================] - 9s 171us/step - loss: 0.1614 - acc: 0.9431 - val_loss: 3.2450 - val_acc: 0.5327\n",
      "Epoch 39/100\n",
      "50000/50000 [==============================] - 9s 174us/step - loss: 0.1699 - acc: 0.9421 - val_loss: 3.0334 - val_acc: 0.5294\n",
      "Epoch 40/100\n",
      "50000/50000 [==============================] - 9s 171us/step - loss: 0.1537 - acc: 0.9470 - val_loss: 3.2886 - val_acc: 0.5261\n",
      "Epoch 41/100\n",
      "50000/50000 [==============================] - 9s 171us/step - loss: 0.1462 - acc: 0.9488 - val_loss: 3.3722 - val_acc: 0.5309\n",
      "Epoch 42/100\n",
      "50000/50000 [==============================] - 9s 171us/step - loss: 0.1475 - acc: 0.9508 - val_loss: 3.2890 - val_acc: 0.5267\n",
      "Epoch 43/100\n",
      "50000/50000 [==============================] - 9s 173us/step - loss: 0.1613 - acc: 0.9450 - val_loss: 3.3559 - val_acc: 0.5212\n",
      "Epoch 44/100\n",
      "50000/50000 [==============================] - 9s 171us/step - loss: 0.1279 - acc: 0.9562 - val_loss: 3.4487 - val_acc: 0.5315\n",
      "Epoch 45/100\n",
      "50000/50000 [==============================] - 9s 173us/step - loss: 0.1316 - acc: 0.9561 - val_loss: 3.5127 - val_acc: 0.5234\n",
      "Epoch 46/100\n",
      "50000/50000 [==============================] - 9s 171us/step - loss: 0.1339 - acc: 0.9541 - val_loss: 3.5661 - val_acc: 0.5199\n",
      "Epoch 47/100\n",
      "50000/50000 [==============================] - 9s 172us/step - loss: 0.1348 - acc: 0.9544 - val_loss: 3.4092 - val_acc: 0.5262\n",
      "Epoch 48/100\n",
      "50000/50000 [==============================] - 9s 172us/step - loss: 0.1182 - acc: 0.9609 - val_loss: 3.5502 - val_acc: 0.5339\n",
      "Epoch 49/100\n",
      "50000/50000 [==============================] - 9s 173us/step - loss: 0.1267 - acc: 0.9568 - val_loss: 3.5064 - val_acc: 0.5315\n",
      "Epoch 50/100\n",
      "50000/50000 [==============================] - 9s 171us/step - loss: 0.1038 - acc: 0.9660 - val_loss: 3.4534 - val_acc: 0.5320\n",
      "Epoch 51/100\n",
      "50000/50000 [==============================] - 9s 178us/step - loss: 0.1256 - acc: 0.9582 - val_loss: 3.5117 - val_acc: 0.5294\n",
      "Epoch 52/100\n",
      "50000/50000 [==============================] - 9s 172us/step - loss: 0.1164 - acc: 0.9619 - val_loss: 3.5476 - val_acc: 0.5255\n",
      "Epoch 53/100\n",
      "50000/50000 [==============================] - 9s 173us/step - loss: 0.1277 - acc: 0.9564 - val_loss: 3.5830 - val_acc: 0.5257\n",
      "Epoch 54/100\n",
      "50000/50000 [==============================] - 9s 173us/step - loss: 0.0920 - acc: 0.9695 - val_loss: 3.6902 - val_acc: 0.5289\n",
      "Epoch 55/100\n",
      "50000/50000 [==============================] - 9s 174us/step - loss: 0.0908 - acc: 0.9685 - val_loss: 3.7888 - val_acc: 0.5328\n",
      "Epoch 56/100\n",
      "50000/50000 [==============================] - 9s 174us/step - loss: 0.1044 - acc: 0.9653 - val_loss: 3.7583 - val_acc: 0.5316\n",
      "Epoch 57/100\n"
     ]
    },
    {
     "name": "stdout",
     "output_type": "stream",
     "text": [
      "50000/50000 [==============================] - 9s 172us/step - loss: 0.1113 - acc: 0.9628 - val_loss: 3.6607 - val_acc: 0.5288\n",
      "Epoch 58/100\n",
      "50000/50000 [==============================] - 9s 171us/step - loss: 0.1050 - acc: 0.9652 - val_loss: 3.7081 - val_acc: 0.5268\n",
      "Epoch 59/100\n",
      "50000/50000 [==============================] - 9s 171us/step - loss: 0.1137 - acc: 0.9635 - val_loss: 3.5335 - val_acc: 0.5260\n",
      "Epoch 60/100\n",
      "50000/50000 [==============================] - 9s 171us/step - loss: 0.0802 - acc: 0.9736 - val_loss: 3.7833 - val_acc: 0.5266\n",
      "Epoch 61/100\n",
      "50000/50000 [==============================] - 9s 172us/step - loss: 0.1007 - acc: 0.9669 - val_loss: 3.7045 - val_acc: 0.5257\n",
      "Epoch 62/100\n",
      "50000/50000 [==============================] - 9s 172us/step - loss: 0.0878 - acc: 0.9708 - val_loss: 3.9004 - val_acc: 0.5312\n",
      "Epoch 63/100\n",
      "50000/50000 [==============================] - 9s 179us/step - loss: 0.1072 - acc: 0.9650 - val_loss: 3.7719 - val_acc: 0.5205\n",
      "Epoch 64/100\n",
      "50000/50000 [==============================] - 9s 175us/step - loss: 0.0905 - acc: 0.9691 - val_loss: 3.7514 - val_acc: 0.5234\n",
      "Epoch 65/100\n",
      "50000/50000 [==============================] - 9s 173us/step - loss: 0.0923 - acc: 0.9700 - val_loss: 3.8162 - val_acc: 0.5299\n",
      "Epoch 66/100\n",
      "50000/50000 [==============================] - 9s 173us/step - loss: 0.0710 - acc: 0.9764 - val_loss: 3.8610 - val_acc: 0.5162\n",
      "Epoch 67/100\n",
      "50000/50000 [==============================] - 9s 173us/step - loss: 0.0852 - acc: 0.9721 - val_loss: 3.7564 - val_acc: 0.5230\n",
      "Epoch 68/100\n",
      "50000/50000 [==============================] - 9s 172us/step - loss: 0.0767 - acc: 0.9746 - val_loss: 3.8639 - val_acc: 0.5234\n",
      "Epoch 69/100\n",
      "50000/50000 [==============================] - 9s 172us/step - loss: 0.0894 - acc: 0.9711 - val_loss: 3.7697 - val_acc: 0.5284\n",
      "Epoch 70/100\n",
      "50000/50000 [==============================] - 9s 172us/step - loss: 0.1005 - acc: 0.9674 - val_loss: 3.7729 - val_acc: 0.5287\n",
      "Epoch 71/100\n",
      "50000/50000 [==============================] - 8s 169us/step - loss: 0.0809 - acc: 0.9730 - val_loss: 3.8174 - val_acc: 0.5340\n",
      "Epoch 72/100\n",
      "50000/50000 [==============================] - 9s 171us/step - loss: 0.0750 - acc: 0.9746 - val_loss: 3.8930 - val_acc: 0.5259\n",
      "Epoch 73/100\n",
      "50000/50000 [==============================] - 9s 170us/step - loss: 0.0898 - acc: 0.9714 - val_loss: 3.7927 - val_acc: 0.5210\n",
      "Epoch 74/100\n",
      "50000/50000 [==============================] - 9s 170us/step - loss: 0.0893 - acc: 0.9713 - val_loss: 3.8326 - val_acc: 0.5346\n",
      "Epoch 75/100\n",
      "50000/50000 [==============================] - 9s 172us/step - loss: 0.0745 - acc: 0.9763 - val_loss: 3.8504 - val_acc: 0.5250\n",
      "Epoch 76/100\n",
      "50000/50000 [==============================] - 9s 173us/step - loss: 0.0753 - acc: 0.9758 - val_loss: 3.9274 - val_acc: 0.5353\n",
      "Epoch 77/100\n",
      "50000/50000 [==============================] - 9s 174us/step - loss: 0.0660 - acc: 0.9780 - val_loss: 3.9631 - val_acc: 0.5313\n",
      "Epoch 78/100\n",
      "50000/50000 [==============================] - 9s 172us/step - loss: 0.0817 - acc: 0.9735 - val_loss: 3.9049 - val_acc: 0.5323\n",
      "Epoch 79/100\n",
      "50000/50000 [==============================] - 9s 172us/step - loss: 0.0719 - acc: 0.9761 - val_loss: 3.8602 - val_acc: 0.5319\n",
      "Epoch 80/100\n",
      "50000/50000 [==============================] - 9s 172us/step - loss: 0.0786 - acc: 0.9751 - val_loss: 3.8810 - val_acc: 0.5269\n",
      "Epoch 81/100\n",
      "50000/50000 [==============================] - 9s 173us/step - loss: 0.0597 - acc: 0.9803 - val_loss: 3.9579 - val_acc: 0.5262\n",
      "Epoch 82/100\n",
      "50000/50000 [==============================] - 9s 172us/step - loss: 0.0894 - acc: 0.9710 - val_loss: 3.8777 - val_acc: 0.5314\n",
      "Epoch 83/100\n",
      "50000/50000 [==============================] - 8s 170us/step - loss: 0.0628 - acc: 0.9801 - val_loss: 3.9277 - val_acc: 0.5285\n",
      "Epoch 84/100\n",
      "50000/50000 [==============================] - 9s 170us/step - loss: 0.0632 - acc: 0.9794 - val_loss: 3.9243 - val_acc: 0.5315\n",
      "Epoch 85/100\n",
      "50000/50000 [==============================] - 9s 172us/step - loss: 0.0817 - acc: 0.9735 - val_loss: 3.8733 - val_acc: 0.5275\n",
      "Epoch 86/100\n",
      "50000/50000 [==============================] - 9s 172us/step - loss: 0.0738 - acc: 0.9763 - val_loss: 3.9852 - val_acc: 0.5256\n",
      "Epoch 87/100\n",
      "50000/50000 [==============================] - 9s 174us/step - loss: 0.0728 - acc: 0.9770 - val_loss: 3.9518 - val_acc: 0.5277\n",
      "Epoch 88/100\n",
      "50000/50000 [==============================] - 9s 172us/step - loss: 0.0571 - acc: 0.9814 - val_loss: 3.9294 - val_acc: 0.5332\n",
      "Epoch 89/100\n",
      "50000/50000 [==============================] - 9s 172us/step - loss: 0.0809 - acc: 0.9732 - val_loss: 3.9143 - val_acc: 0.5260\n",
      "Epoch 90/100\n",
      "50000/50000 [==============================] - 9s 176us/step - loss: 0.0533 - acc: 0.9821 - val_loss: 4.0307 - val_acc: 0.5270\n",
      "Epoch 91/100\n",
      "50000/50000 [==============================] - 9s 174us/step - loss: 0.0533 - acc: 0.9825 - val_loss: 4.0765 - val_acc: 0.5327\n",
      "Epoch 92/100\n",
      "50000/50000 [==============================] - 9s 173us/step - loss: 0.0850 - acc: 0.9738 - val_loss: 3.8240 - val_acc: 0.5276\n",
      "Epoch 93/100\n",
      "50000/50000 [==============================] - 9s 173us/step - loss: 0.0466 - acc: 0.9847 - val_loss: 4.1043 - val_acc: 0.5330\n",
      "Epoch 94/100\n",
      "50000/50000 [==============================] - 9s 173us/step - loss: 0.0623 - acc: 0.9800 - val_loss: 4.0284 - val_acc: 0.5317\n",
      "Epoch 95/100\n",
      "50000/50000 [==============================] - 9s 174us/step - loss: 0.0632 - acc: 0.9799 - val_loss: 4.0649 - val_acc: 0.5311\n",
      "Epoch 96/100\n",
      "50000/50000 [==============================] - 9s 174us/step - loss: 0.0754 - acc: 0.9762 - val_loss: 3.9934 - val_acc: 0.5290\n",
      "Epoch 97/100\n",
      "50000/50000 [==============================] - 9s 174us/step - loss: 0.0733 - acc: 0.9762 - val_loss: 3.9707 - val_acc: 0.5311\n",
      "Epoch 98/100\n",
      "50000/50000 [==============================] - 9s 173us/step - loss: 0.0528 - acc: 0.9831 - val_loss: 4.0863 - val_acc: 0.5243\n",
      "Epoch 99/100\n",
      "50000/50000 [==============================] - 9s 175us/step - loss: 0.0753 - acc: 0.9767 - val_loss: 3.8267 - val_acc: 0.5386\n",
      "Epoch 100/100\n",
      "50000/50000 [==============================] - 9s 172us/step - loss: 0.0422 - acc: 0.9864 - val_loss: 4.0988 - val_acc: 0.5354\n"
     ]
    },
    {
     "data": {
      "text/plain": [
       "<keras.callbacks.History at 0x2a0292da4a8>"
      ]
     },
     "execution_count": 31,
     "metadata": {},
     "output_type": "execute_result"
    }
   ],
   "source": [
    "model.fit(x_train, y_train, \n",
    "          epochs=EPOCHS, \n",
    "          batch_size=BATCH_SIZE, \n",
    "          validation_data=(x_test, y_test), \n",
    "          shuffle=True)"
   ]
  },
  {
   "cell_type": "code",
   "execution_count": 33,
   "metadata": {},
   "outputs": [
    {
     "data": {
      "image/png": "[encoded data removed]",
      "text/plain": [
       "<Figure size 432x288 with 1 Axes>"
      ]
     },
     "metadata": {
      "needs_background": "light"
     },
     "output_type": "display_data"
    },
    {
     "data": {
      "image/png": "[encoded data removed]",
      "text/plain": [
       "<Figure size 432x288 with 1 Axes>"
      ]
     },
     "metadata": {
      "needs_background": "light"
     },
     "output_type": "display_data"
    }
   ],
   "source": [
    "import matplotlib.pyplot as plt\n",
    "\n",
    "\n",
    "train_loss = model.history.history[\"loss\"]\n",
    "valid_loss = model.history.history[\"val_loss\"]\n",
    "\n",
    "train_acc = model.history.history[\"acc\"]\n",
    "valid_acc = model.history.history[\"val_acc\"]\n",
    "\n",
    "plt.plot(range(len(train_loss)), train_loss, label=\"train loss\")\n",
    "plt.plot(range(len(valid_loss)), valid_loss, label=\"valid loss\")\n",
    "plt.legend()\n",
    "plt.title(\"Loss\")\n",
    "plt.show()\n",
    "\n",
    "plt.plot(range(len(train_acc)), train_acc, label=\"train accuracy\")\n",
    "plt.plot(range(len(valid_acc)), valid_acc, label=\"valid accuracy\")\n",
    "plt.legend()\n",
    "plt.title(\"Accuracy\")\n",
    "plt.show()"
   ]
  }
 ],
 "metadata": {
  "kernelspec": {
   "display_name": "Python 3",
   "language": "python",
   "name": "python3"
  },
  "language_info": {
   "codemirror_mode": {
    "name": "ipython",
    "version": 3
   },
   "file_extension": ".py",
   "mimetype": "text/x-python",
   "name": "python",
   "nbconvert_exporter": "python",
   "pygments_lexer": "ipython3",
   "version": "3.7.3"
  }
 },
 "nbformat": 4,
 "nbformat_minor": 2
}
