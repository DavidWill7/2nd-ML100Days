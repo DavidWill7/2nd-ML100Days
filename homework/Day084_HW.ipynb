{
 "cells": [
  {
   "cell_type": "markdown",
   "metadata": {},
   "source": [
    "## Work\n",
    "### 請結合前面的知識與程式碼，比較不同的 regularization 的組合對訓練的結果與影響：如 dropout, regularizers, batch-normalization 等"
   ]
  },
  {
   "cell_type": "code",
   "execution_count": 1,
   "metadata": {},
   "outputs": [
    {
     "name": "stderr",
     "output_type": "stream",
     "text": [
      "Using TensorFlow backend.\n"
     ]
    }
   ],
   "source": [
    "import os\n",
    "import keras\n",
    "import itertools\n",
    "# Disable GPU\n",
    "os.environ[\"CUDA_VISIBLE_DEVICES\"] = \"\""
   ]
  },
  {
   "cell_type": "code",
   "execution_count": 2,
   "metadata": {},
   "outputs": [],
   "source": [
    "train, test = keras.datasets.cifar10.load_data()"
   ]
  },
  {
   "cell_type": "code",
   "execution_count": 3,
   "metadata": {},
   "outputs": [],
   "source": [
    "## 資料前處理\n",
    "def preproc_x(x, flatten=True):\n",
    "    x = x / 255.\n",
    "    if flatten:\n",
    "        x = x.reshape((len(x), -1))\n",
    "    return x\n",
    "\n",
    "def preproc_y(y, num_classes=10):\n",
    "    if y.shape[-1] == 1:\n",
    "        y = keras.utils.to_categorical(y, num_classes)\n",
    "    return y    "
   ]
  },
  {
   "cell_type": "code",
   "execution_count": 4,
   "metadata": {},
   "outputs": [],
   "source": [
    "x_train, y_train = train\n",
    "x_test, y_test = test\n",
    "\n",
    "# Preproc the inputs\n",
    "x_train = preproc_x(x_train)\n",
    "x_test = preproc_x(x_test)\n",
    "\n",
    "# Preprc the outputs\n",
    "y_train = preproc_y(y_train)\n",
    "y_test = preproc_y(y_test)"
   ]
  },
  {
   "cell_type": "code",
   "execution_count": 10,
   "metadata": {},
   "outputs": [],
   "source": [
    "from keras.layers import BatchNormalization\n",
    "from keras.regularizers import l1,l2,l1_l2\n",
    "from keras.layers import Dropout\n",
    "def build_mlp(input_shape,output_units=10,num_neurons=[512,256,128,64],drop_ratio=0.2,l1_ratio=1e-4):\n",
    "    \n",
    "    input_layer = keras.layers.Input(input_shape)\n",
    "    \n",
    "    for i ,n_units in enumerate(num_neurons):\n",
    "        if i == 0:\n",
    "            x = keras.layers.Dense(units=n_units,activation='relu',name='hidden_layer'+str(i+1),kernel_regularizer=l1(l1_ratio))(input_layer)\n",
    "            x = BatchNormalization()(x)\n",
    "            x = keras.layers.Dropout(drop_ratio)(x)\n",
    "        else:\n",
    "            x = keras.layers.Dense(units=n_units,activation='relu',name='hidden_layer'+str(i+1),kernel_regularizer=l1(l1_ratio))(x)\n",
    "            x = BatchNormalization()(x)\n",
    "            x = keras.layers.Dropout(drop_ratio)(x)\n",
    "            \n",
    "    out = keras.layers.Dense(units=output_units,activation='softmax',name='output')(x)\n",
    "    \n",
    "    model = keras.models.Model(inputs=[input_layer],outputs=[out])\n",
    "    \n",
    "    return model"
   ]
  },
  {
   "cell_type": "code",
   "execution_count": 18,
   "metadata": {},
   "outputs": [],
   "source": [
    "\"\"\"Code Here\n",
    "設定超參數\n",
    "\"\"\"\n",
    "LEARNING_RATE = 1e-3\n",
    "BATCH_SIZE = 256\n",
    "EPOCHS = 25\n",
    "MOMENTUM = 0.95\n",
    "Dropout_EXP = 0.15\n",
    "L1_EXP = [1e-2, 1e-4]"
   ]
  },
  {
   "cell_type": "code",
   "execution_count": 19,
   "metadata": {
    "scrolled": true
   },
   "outputs": [
    {
     "name": "stdout",
     "output_type": "stream",
     "text": [
      "_________________________________________________________________\n",
      "Layer (type)                 Output Shape              Param #   \n",
      "=================================================================\n",
      "input_7 (InputLayer)         (None, 3072)              0         \n",
      "_________________________________________________________________\n",
      "hidden_layer1 (Dense)        (None, 512)               1573376   \n",
      "_________________________________________________________________\n",
      "batch_normalization_25 (Batc (None, 512)               2048      \n",
      "_________________________________________________________________\n",
      "dropout_25 (Dropout)         (None, 512)               0         \n",
      "_________________________________________________________________\n",
      "hidden_layer2 (Dense)        (None, 256)               131328    \n",
      "_________________________________________________________________\n",
      "batch_normalization_26 (Batc (None, 256)               1024      \n",
      "_________________________________________________________________\n",
      "dropout_26 (Dropout)         (None, 256)               0         \n",
      "_________________________________________________________________\n",
      "hidden_layer3 (Dense)        (None, 128)               32896     \n",
      "_________________________________________________________________\n",
      "batch_normalization_27 (Batc (None, 128)               512       \n",
      "_________________________________________________________________\n",
      "dropout_27 (Dropout)         (None, 128)               0         \n",
      "_________________________________________________________________\n",
      "hidden_layer4 (Dense)        (None, 64)                8256      \n",
      "_________________________________________________________________\n",
      "batch_normalization_28 (Batc (None, 64)                256       \n",
      "_________________________________________________________________\n",
      "dropout_28 (Dropout)         (None, 64)                0         \n",
      "_________________________________________________________________\n",
      "output (Dense)               (None, 10)                650       \n",
      "=================================================================\n",
      "Total params: 1,750,346\n",
      "Trainable params: 1,748,426\n",
      "Non-trainable params: 1,920\n",
      "_________________________________________________________________\n",
      "Train on 50000 samples, validate on 10000 samples\n",
      "Epoch 1/25\n",
      "50000/50000 [==============================] - 73s 1ms/step - loss: 61.6800 - acc: 0.2445 - val_loss: 8.5695 - val_acc: 0.1001\n",
      "Epoch 2/25\n",
      "50000/50000 [==============================] - 58s 1ms/step - loss: 6.7781 - acc: 0.2473 - val_loss: 6.4218 - val_acc: 0.1640\n",
      "Epoch 3/25\n",
      "50000/50000 [==============================] - 62s 1ms/step - loss: 5.7586 - acc: 0.2606 - val_loss: 5.5191 - val_acc: 0.2614\n",
      "Epoch 4/25\n",
      "50000/50000 [==============================] - 60s 1ms/step - loss: 5.2943 - acc: 0.2687 - val_loss: 5.4333 - val_acc: 0.2317\n",
      "Epoch 5/25\n",
      "50000/50000 [==============================] - 63s 1ms/step - loss: 5.2427 - acc: 0.2753 - val_loss: 5.9681 - val_acc: 0.1269\n",
      "Epoch 6/25\n",
      "50000/50000 [==============================] - 63s 1ms/step - loss: 5.0663 - acc: 0.2777 - val_loss: 5.4791 - val_acc: 0.1843\n",
      "Epoch 7/25\n",
      "50000/50000 [==============================] - 65s 1ms/step - loss: 5.1179 - acc: 0.2790 - val_loss: 5.4638 - val_acc: 0.1842\n",
      "Epoch 8/25\n",
      "50000/50000 [==============================] - 63s 1ms/step - loss: 5.0526 - acc: 0.2798 - val_loss: 5.9837 - val_acc: 0.1626\n",
      "Epoch 9/25\n",
      "50000/50000 [==============================] - 64s 1ms/step - loss: 4.9810 - acc: 0.2837 - val_loss: 7.2546 - val_acc: 0.1337\n",
      "Epoch 10/25\n",
      "50000/50000 [==============================] - 64s 1ms/step - loss: 4.9536 - acc: 0.2794 - val_loss: 6.6510 - val_acc: 0.1309\n",
      "Epoch 11/25\n",
      "50000/50000 [==============================] - 63s 1ms/step - loss: 4.8907 - acc: 0.2824 - val_loss: 4.9948 - val_acc: 0.2324\n",
      "Epoch 12/25\n",
      "50000/50000 [==============================] - 64s 1ms/step - loss: 4.9309 - acc: 0.2855 - val_loss: 5.2077 - val_acc: 0.1919\n",
      "Epoch 13/25\n",
      "50000/50000 [==============================] - 63s 1ms/step - loss: 4.7144 - acc: 0.2877 - val_loss: 5.1847 - val_acc: 0.1640\n",
      "Epoch 14/25\n",
      "50000/50000 [==============================] - 61s 1ms/step - loss: 4.8274 - acc: 0.2821 - val_loss: 6.0234 - val_acc: 0.1258\n",
      "Epoch 15/25\n",
      "50000/50000 [==============================] - 65s 1ms/step - loss: 4.7902 - acc: 0.2847 - val_loss: 4.8154 - val_acc: 0.2601\n",
      "Epoch 16/25\n",
      "50000/50000 [==============================] - 63s 1ms/step - loss: 4.8321 - acc: 0.2854 - val_loss: 5.4139 - val_acc: 0.1731\n",
      "Epoch 17/25\n",
      "50000/50000 [==============================] - 62s 1ms/step - loss: 4.6780 - acc: 0.2848 - val_loss: 5.3340 - val_acc: 0.1883\n",
      "Epoch 18/25\n",
      "50000/50000 [==============================] - 63s 1ms/step - loss: 4.7165 - acc: 0.2860 - val_loss: 5.0702 - val_acc: 0.1748\n",
      "Epoch 19/25\n",
      "50000/50000 [==============================] - 63s 1ms/step - loss: 4.7104 - acc: 0.2881 - val_loss: 4.9409 - val_acc: 0.2309\n",
      "Epoch 20/25\n",
      "50000/50000 [==============================] - 62s 1ms/step - loss: 4.4992 - acc: 0.2899 - val_loss: 4.6987 - val_acc: 0.1857\n",
      "Epoch 21/25\n",
      "50000/50000 [==============================] - 62s 1ms/step - loss: 4.5884 - acc: 0.2882 - val_loss: 5.2224 - val_acc: 0.1577\n",
      "Epoch 22/25\n",
      "50000/50000 [==============================] - 62s 1ms/step - loss: 4.6296 - acc: 0.2880 - val_loss: 5.5185 - val_acc: 0.1255\n",
      "Epoch 23/25\n",
      "50000/50000 [==============================] - 62s 1ms/step - loss: 4.6656 - acc: 0.2898 - val_loss: 4.5510 - val_acc: 0.2627\n",
      "Epoch 24/25\n",
      "50000/50000 [==============================] - 62s 1ms/step - loss: 4.5653 - acc: 0.2874 - val_loss: 5.4805 - val_acc: 0.1525\n",
      "Epoch 25/25\n",
      "50000/50000 [==============================] - 65s 1ms/step - loss: 4.6713 - acc: 0.2898 - val_loss: 5.1550 - val_acc: 0.1928\n",
      "_________________________________________________________________\n",
      "Layer (type)                 Output Shape              Param #   \n",
      "=================================================================\n",
      "input_8 (InputLayer)         (None, 3072)              0         \n",
      "_________________________________________________________________\n",
      "hidden_layer1 (Dense)        (None, 512)               1573376   \n",
      "_________________________________________________________________\n",
      "batch_normalization_29 (Batc (None, 512)               2048      \n",
      "_________________________________________________________________\n",
      "dropout_29 (Dropout)         (None, 512)               0         \n",
      "_________________________________________________________________\n",
      "hidden_layer2 (Dense)        (None, 256)               131328    \n",
      "_________________________________________________________________\n",
      "batch_normalization_30 (Batc (None, 256)               1024      \n",
      "_________________________________________________________________\n",
      "dropout_30 (Dropout)         (None, 256)               0         \n",
      "_________________________________________________________________\n",
      "hidden_layer3 (Dense)        (None, 128)               32896     \n",
      "_________________________________________________________________\n",
      "batch_normalization_31 (Batc (None, 128)               512       \n",
      "_________________________________________________________________\n",
      "dropout_31 (Dropout)         (None, 128)               0         \n",
      "_________________________________________________________________\n",
      "hidden_layer4 (Dense)        (None, 64)                8256      \n",
      "_________________________________________________________________\n",
      "batch_normalization_32 (Batc (None, 64)                256       \n",
      "_________________________________________________________________\n",
      "dropout_32 (Dropout)         (None, 64)                0         \n",
      "_________________________________________________________________\n",
      "output (Dense)               (None, 10)                650       \n",
      "=================================================================\n",
      "Total params: 1,750,346\n",
      "Trainable params: 1,748,426\n",
      "Non-trainable params: 1,920\n",
      "_________________________________________________________________\n",
      "Train on 50000 samples, validate on 10000 samples\n",
      "Epoch 1/25\n",
      "50000/50000 [==============================] - 85s 2ms/step - loss: 5.2330 - acc: 0.3197 - val_loss: 4.3234 - val_acc: 0.3072\n",
      "Epoch 2/25\n",
      "50000/50000 [==============================] - 68s 1ms/step - loss: 3.5471 - acc: 0.3857 - val_loss: 4.0420 - val_acc: 0.1575\n"
     ]
    },
    {
     "name": "stdout",
     "output_type": "stream",
     "text": [
      "Epoch 3/25\n",
      "50000/50000 [==============================] - 71s 1ms/step - loss: 2.7827 - acc: 0.4014 - val_loss: 3.0536 - val_acc: 0.2614\n",
      "Epoch 4/25\n",
      "50000/50000 [==============================] - 64s 1ms/step - loss: 2.5466 - acc: 0.4116 - val_loss: 3.0824 - val_acc: 0.2045\n",
      "Epoch 5/25\n",
      "50000/50000 [==============================] - 63s 1ms/step - loss: 2.4515 - acc: 0.4174 - val_loss: 3.3226 - val_acc: 0.2002\n",
      "Epoch 6/25\n",
      "50000/50000 [==============================] - 63s 1ms/step - loss: 2.3500 - acc: 0.4293 - val_loss: 3.0074 - val_acc: 0.1839\n",
      "Epoch 7/25\n",
      "50000/50000 [==============================] - 65s 1ms/step - loss: 2.2671 - acc: 0.4248 - val_loss: 2.6149 - val_acc: 0.2998\n",
      "Epoch 8/25\n",
      "50000/50000 [==============================] - 63s 1ms/step - loss: 2.2093 - acc: 0.4331 - val_loss: 2.9882 - val_acc: 0.1769\n",
      "Epoch 9/25\n",
      "50000/50000 [==============================] - 63s 1ms/step - loss: 2.1641 - acc: 0.4381 - val_loss: 2.6938 - val_acc: 0.2463\n",
      "Epoch 10/25\n",
      "50000/50000 [==============================] - 63s 1ms/step - loss: 2.1113 - acc: 0.4397 - val_loss: 2.5819 - val_acc: 0.2693\n",
      "Epoch 11/25\n",
      "50000/50000 [==============================] - 63s 1ms/step - loss: 2.0695 - acc: 0.4473 - val_loss: 2.3106 - val_acc: 0.3515\n",
      "Epoch 12/25\n",
      "50000/50000 [==============================] - 63s 1ms/step - loss: 2.0413 - acc: 0.4510 - val_loss: 2.3740 - val_acc: 0.3134\n",
      "Epoch 13/25\n",
      "50000/50000 [==============================] - 63s 1ms/step - loss: 2.0009 - acc: 0.4560 - val_loss: 2.1864 - val_acc: 0.3798\n",
      "Epoch 14/25\n",
      "50000/50000 [==============================] - 67s 1ms/step - loss: 1.9876 - acc: 0.4553 - val_loss: 2.2257 - val_acc: 0.3605\n",
      "Epoch 15/25\n",
      "50000/50000 [==============================] - 67s 1ms/step - loss: 1.9609 - acc: 0.4614 - val_loss: 2.3287 - val_acc: 0.3278\n",
      "Epoch 16/25\n",
      "50000/50000 [==============================] - 64s 1ms/step - loss: 1.9498 - acc: 0.4650 - val_loss: 2.4196 - val_acc: 0.2718\n",
      "Epoch 17/25\n",
      "50000/50000 [==============================] - 68s 1ms/step - loss: 1.9519 - acc: 0.4659 - val_loss: 2.4818 - val_acc: 0.3062\n",
      "Epoch 18/25\n",
      "50000/50000 [==============================] - 67s 1ms/step - loss: 1.9291 - acc: 0.4675 - val_loss: 2.2837 - val_acc: 0.3441\n",
      "Epoch 19/25\n",
      "50000/50000 [==============================] - 64s 1ms/step - loss: 1.9290 - acc: 0.4687 - val_loss: 2.4935 - val_acc: 0.2622\n",
      "Epoch 20/25\n",
      "50000/50000 [==============================] - 63s 1ms/step - loss: 1.9174 - acc: 0.4749 - val_loss: 2.2325 - val_acc: 0.3478\n",
      "Epoch 21/25\n",
      "50000/50000 [==============================] - 71s 1ms/step - loss: 1.9025 - acc: 0.4727 - val_loss: 2.3746 - val_acc: 0.3326\n",
      "Epoch 22/25\n",
      "50000/50000 [==============================] - 64s 1ms/step - loss: 1.8993 - acc: 0.4773 - val_loss: 2.3778 - val_acc: 0.3273\n",
      "Epoch 23/25\n",
      "50000/50000 [==============================] - 63s 1ms/step - loss: 1.8983 - acc: 0.4768 - val_loss: 2.4462 - val_acc: 0.3094\n",
      "Epoch 24/25\n",
      "50000/50000 [==============================] - 63s 1ms/step - loss: 1.9096 - acc: 0.4732 - val_loss: 2.4562 - val_acc: 0.3049\n",
      "Epoch 25/25\n",
      "50000/50000 [==============================] - 63s 1ms/step - loss: 1.8943 - acc: 0.4762 - val_loss: 2.5651 - val_acc: 0.2818\n"
     ]
    }
   ],
   "source": [
    "results = {}\n",
    "\"\"\"Code Here\n",
    "撰寫你的訓練流程並將結果用 dictionary 紀錄\n",
    "\"\"\"\n",
    "for regulizer_ratio in L1_EXP:\n",
    "    \n",
    "    model = build_mlp(input_shape=x_train.shape[1:],drop_ratio=Dropout_EXP,l1_ratio=regulizer_ratio)\n",
    "    model.summary()\n",
    "    optimizer = keras.optimizers.Adam(lr=LEARNING_RATE)\n",
    "    model.compile(loss='categorical_crossentropy',metrics=['accuracy'],optimizer=optimizer)\n",
    "    model.fit(x_train,y_train,epochs=EPOCHS,batch_size=BATCH_SIZE,validation_data=(x_test,y_test),shuffle=True)\n",
    "\n",
    "    train_loss = model.history.history['loss']\n",
    "    valid_loss = model.history.history['val_loss']\n",
    "    train_acc = model.history.history['acc']\n",
    "    valid_acc = model.history.history['val_acc']\n",
    "\n",
    "\n"
   ]
  },
  {
   "cell_type": "code",
   "execution_count": 20,
   "metadata": {},
   "outputs": [
    {
     "data": {
      "image/png": "[encoded data removed]",
      "text/plain": [
       "<Figure size 432x288 with 1 Axes>"
      ]
     },
     "metadata": {
      "needs_background": "light"
     },
     "output_type": "display_data"
    },
    {
     "data": {
      "image/png": "[encoded data removed]",
      "text/plain": [
       "<Figure size 432x288 with 1 Axes>"
      ]
     },
     "metadata": {
      "needs_background": "light"
     },
     "output_type": "display_data"
    }
   ],
   "source": [
    "import matplotlib.pyplot as plt\n",
    "%matplotlib inline\n",
    "\"\"\"Code Here\n",
    "將結果繪出\n",
    "\"\"\"\n",
    "\n",
    "plt.plot(range(len(train_loss)),train_loss,label='train_loss')\n",
    "plt.plot(range(len(valid_loss)),valid_loss,label='valid_loss')\n",
    "plt.legend()\n",
    "plt.title('loss')\n",
    "plt.show()\n",
    "\n",
    "\n",
    "plt.plot(range(len(train_acc)),train_acc,label='train_acc')\n",
    "plt.plot(range(len(valid_acc)),valid_acc,label='valid_acc')\n",
    "plt.legend()\n",
    "plt.title('acc')\n",
    "plt.show()"
   ]
  }
 ],
 "metadata": {
  "kernelspec": {
   "display_name": "Python 3",
   "language": "python",
   "name": "python3"
  },
  "language_info": {
   "codemirror_mode": {
    "name": "ipython",
    "version": 3
   },
   "file_extension": ".py",
   "mimetype": "text/x-python",
   "name": "python",
   "nbconvert_exporter": "python",
   "pygments_lexer": "ipython3",
   "version": "3.7.3"
  }
 },
 "nbformat": 4,
 "nbformat_minor": 2
}
