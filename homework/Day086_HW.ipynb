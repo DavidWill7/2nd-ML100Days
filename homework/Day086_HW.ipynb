{
 "cells": [
  {
   "cell_type": "markdown",
   "metadata": {},
   "source": [
    "## Work\n",
    "1. 試比較 save_best_only 與否的差異\n",
    "2. 請僅存入將 save_weights_only 設定為 True, 並嘗試 reset ipynb 並將模型與權重重新建回並預測 x_test"
   ]
  },
  {
   "cell_type": "code",
   "execution_count": 1,
   "metadata": {},
   "outputs": [
    {
     "name": "stderr",
     "output_type": "stream",
     "text": [
      "Using TensorFlow backend.\n"
     ]
    }
   ],
   "source": [
    "import os\n",
    "import keras\n",
    "\n",
    "# Disable GPU\n",
    "os.environ[\"CUDA_VISIBLE_DEVICES\"] = \"\""
   ]
  },
  {
   "cell_type": "code",
   "execution_count": 2,
   "metadata": {},
   "outputs": [],
   "source": [
    "train, test = keras.datasets.cifar10.load_data()"
   ]
  },
  {
   "cell_type": "code",
   "execution_count": 3,
   "metadata": {},
   "outputs": [],
   "source": [
    "## 資料前處理\n",
    "def preproc_x(x, flatten=True):\n",
    "    x = x / 255.\n",
    "    if flatten:\n",
    "        x = x.reshape((len(x), -1))\n",
    "    return x\n",
    "\n",
    "def preproc_y(y, num_classes=10):\n",
    "    if y.shape[-1] == 1:\n",
    "        y = keras.utils.to_categorical(y, num_classes)\n",
    "    return y    "
   ]
  },
  {
   "cell_type": "code",
   "execution_count": 4,
   "metadata": {},
   "outputs": [],
   "source": [
    "x_train, y_train = train\n",
    "x_test, y_test = test\n",
    "\n",
    "# Preproc the inputs\n",
    "x_train = preproc_x(x_train)\n",
    "x_test = preproc_x(x_test)\n",
    "\n",
    "# Preprc the outputs\n",
    "y_train = preproc_y(y_train)\n",
    "y_test = preproc_y(y_test)"
   ]
  },
  {
   "cell_type": "code",
   "execution_count": 13,
   "metadata": {},
   "outputs": [],
   "source": [
    "from keras.layers import BatchNormalization\n",
    "def build_mlp(input_shape,output_units=10,num_neurons=[512,256,128]):\n",
    "    \"\"\"Code Here\n",
    "    建立你的神經網路\n",
    "    \"\"\"\n",
    "    input_layer = keras.layers.Input(input_shape)\n",
    "    \n",
    "    for i, n_units in enumerate(num_neurons):\n",
    "        if i == 0:\n",
    "            x = keras.layers.Dense(units=n_units,activation='relu',name='hidden_layer'+str(i+1))(input_layer)\n",
    "            x = BatchNormalization()(x)\n",
    "        else:\n",
    "            x = keras.layers.Dense(units=n_units,activation='relu',name='hidden_layer'+str(i+1))(x)\n",
    "            x = BatchNormalization()(x)\n",
    "    out = keras.layers.Dense(units=output_units,activation='softmax',name='output')(x)\n",
    "    \n",
    "    model = keras.models.Model(inputs=[input_layer],outputs=[out])\n",
    "    \n",
    "    return model"
   ]
  },
  {
   "cell_type": "code",
   "execution_count": 14,
   "metadata": {},
   "outputs": [],
   "source": [
    "\"\"\"Code Here\n",
    "設定超參數\n",
    "\"\"\"\n",
    "LEARNING_RATE = 1e-3\n",
    "EPOCHS = 50\n",
    "BATCH_SIZE = 1024\n",
    "MOMENTUM = 0.95"
   ]
  },
  {
   "cell_type": "code",
   "execution_count": 19,
   "metadata": {},
   "outputs": [
    {
     "name": "stdout",
     "output_type": "stream",
     "text": [
      "_________________________________________________________________\n",
      "Layer (type)                 Output Shape              Param #   \n",
      "=================================================================\n",
      "input_7 (InputLayer)         (None, 3072)              0         \n",
      "_________________________________________________________________\n",
      "hidden_layer1 (Dense)        (None, 512)               1573376   \n",
      "_________________________________________________________________\n",
      "batch_normalization_13 (Batc (None, 512)               2048      \n",
      "_________________________________________________________________\n",
      "hidden_layer2 (Dense)        (None, 256)               131328    \n",
      "_________________________________________________________________\n",
      "batch_normalization_14 (Batc (None, 256)               1024      \n",
      "_________________________________________________________________\n",
      "hidden_layer3 (Dense)        (None, 128)               32896     \n",
      "_________________________________________________________________\n",
      "batch_normalization_15 (Batc (None, 128)               512       \n",
      "_________________________________________________________________\n",
      "output (Dense)               (None, 10)                1290      \n",
      "=================================================================\n",
      "Total params: 1,742,474\n",
      "Trainable params: 1,740,682\n",
      "Non-trainable params: 1,792\n",
      "_________________________________________________________________\n",
      "Train on 50000 samples, validate on 10000 samples\n",
      "Epoch 1/50\n",
      "50000/50000 [==============================] - 29s 571us/step - loss: 2.1854 - acc: 0.2717 - val_loss: 2.1520 - val_acc: 0.3287\n",
      "Epoch 2/50\n",
      "50000/50000 [==============================] - 18s 359us/step - loss: 1.7382 - acc: 0.3937 - val_loss: 1.7993 - val_acc: 0.3787\n",
      "Epoch 3/50\n",
      "50000/50000 [==============================] - 18s 363us/step - loss: 1.6153 - acc: 0.4342 - val_loss: 1.6902 - val_acc: 0.4145\n",
      "Epoch 4/50\n",
      "50000/50000 [==============================] - 23s 465us/step - loss: 1.5411 - acc: 0.4604 - val_loss: 1.6347 - val_acc: 0.4206\n",
      "Epoch 5/50\n",
      "50000/50000 [==============================] - 20s 405us/step - loss: 1.4882 - acc: 0.4787 - val_loss: 1.6013 - val_acc: 0.4337\n",
      "Epoch 6/50\n",
      "50000/50000 [==============================] - 21s 423us/step - loss: 1.4418 - acc: 0.4946 - val_loss: 1.5657 - val_acc: 0.4489\n",
      "Epoch 7/50\n",
      "50000/50000 [==============================] - 21s 411us/step - loss: 1.4022 - acc: 0.5115 - val_loss: 1.5568 - val_acc: 0.4506\n",
      "Epoch 8/50\n",
      "50000/50000 [==============================] - 20s 392us/step - loss: 1.3656 - acc: 0.5244 - val_loss: 1.5283 - val_acc: 0.4618\n",
      "Epoch 9/50\n",
      "50000/50000 [==============================] - 21s 417us/step - loss: 1.3352 - acc: 0.5344 - val_loss: 1.5123 - val_acc: 0.4680\n",
      "Epoch 10/50\n",
      "50000/50000 [==============================] - 21s 418us/step - loss: 1.3040 - acc: 0.5458 - val_loss: 1.5100 - val_acc: 0.4673\n",
      "Epoch 11/50\n",
      "50000/50000 [==============================] - 21s 426us/step - loss: 1.2761 - acc: 0.5585 - val_loss: 1.4975 - val_acc: 0.4681\n",
      "Epoch 12/50\n",
      "50000/50000 [==============================] - 20s 398us/step - loss: 1.2484 - acc: 0.5682 - val_loss: 1.4808 - val_acc: 0.4775\n",
      "Epoch 13/50\n",
      "50000/50000 [==============================] - 20s 393us/step - loss: 1.2230 - acc: 0.5755 - val_loss: 1.4732 - val_acc: 0.4870\n",
      "Epoch 14/50\n",
      "50000/50000 [==============================] - 20s 398us/step - loss: 1.1968 - acc: 0.5865 - val_loss: 1.4769 - val_acc: 0.4808\n",
      "Epoch 15/50\n",
      "50000/50000 [==============================] - 20s 398us/step - loss: 1.1738 - acc: 0.5944 - val_loss: 1.5032 - val_acc: 0.4741\n",
      "Epoch 16/50\n",
      "50000/50000 [==============================] - 20s 400us/step - loss: 1.1505 - acc: 0.6045 - val_loss: 1.4674 - val_acc: 0.4839\n",
      "Epoch 17/50\n",
      "50000/50000 [==============================] - 21s 423us/step - loss: 1.1248 - acc: 0.6116 - val_loss: 1.4571 - val_acc: 0.4910\n",
      "Epoch 18/50\n",
      "50000/50000 [==============================] - 20s 409us/step - loss: 1.1017 - acc: 0.6230 - val_loss: 1.4520 - val_acc: 0.4926\n",
      "Epoch 19/50\n",
      "50000/50000 [==============================] - 20s 396us/step - loss: 1.0797 - acc: 0.6315 - val_loss: 1.4519 - val_acc: 0.4957\n",
      "Epoch 20/50\n",
      "50000/50000 [==============================] - 20s 392us/step - loss: 1.0573 - acc: 0.6406 - val_loss: 1.4487 - val_acc: 0.4899\n",
      "Epoch 21/50\n",
      "50000/50000 [==============================] - 20s 400us/step - loss: 1.0350 - acc: 0.6477 - val_loss: 1.4531 - val_acc: 0.4917\n",
      "Epoch 22/50\n",
      "50000/50000 [==============================] - 20s 398us/step - loss: 1.0134 - acc: 0.6572 - val_loss: 1.4671 - val_acc: 0.4901\n",
      "Epoch 23/50\n",
      "50000/50000 [==============================] - 20s 393us/step - loss: 0.9917 - acc: 0.6640 - val_loss: 1.4612 - val_acc: 0.4960\n",
      "Epoch 24/50\n",
      "50000/50000 [==============================] - 21s 418us/step - loss: 0.9706 - acc: 0.6741 - val_loss: 1.4722 - val_acc: 0.4935\n",
      "Epoch 25/50\n",
      "50000/50000 [==============================] - 24s 479us/step - loss: 0.9497 - acc: 0.6809 - val_loss: 1.4559 - val_acc: 0.4987\n",
      "Epoch 26/50\n",
      "50000/50000 [==============================] - 19s 390us/step - loss: 0.9312 - acc: 0.6899 - val_loss: 1.4620 - val_acc: 0.4956\n",
      "Epoch 27/50\n",
      "50000/50000 [==============================] - 20s 395us/step - loss: 0.9098 - acc: 0.6970 - val_loss: 1.4682 - val_acc: 0.4954\n",
      "Epoch 28/50\n",
      "50000/50000 [==============================] - 23s 460us/step - loss: 0.8880 - acc: 0.7042 - val_loss: 1.4684 - val_acc: 0.4899\n",
      "Epoch 29/50\n",
      "50000/50000 [==============================] - 20s 406us/step - loss: 0.8686 - acc: 0.7132 - val_loss: 1.4772 - val_acc: 0.4901\n",
      "Epoch 30/50\n",
      "50000/50000 [==============================] - 20s 406us/step - loss: 0.8474 - acc: 0.7216 - val_loss: 1.4769 - val_acc: 0.4968\n",
      "Epoch 31/50\n",
      "50000/50000 [==============================] - 20s 406us/step - loss: 0.8291 - acc: 0.7279 - val_loss: 1.4974 - val_acc: 0.4921\n",
      "Epoch 32/50\n",
      "50000/50000 [==============================] - 22s 447us/step - loss: 0.8080 - acc: 0.7363 - val_loss: 1.4917 - val_acc: 0.4942\n",
      "Epoch 33/50\n",
      "50000/50000 [==============================] - 20s 394us/step - loss: 0.7898 - acc: 0.7431 - val_loss: 1.4999 - val_acc: 0.4974\n",
      "Epoch 34/50\n",
      "50000/50000 [==============================] - 20s 391us/step - loss: 0.7691 - acc: 0.7522 - val_loss: 1.5108 - val_acc: 0.4939\n",
      "Epoch 35/50\n",
      "50000/50000 [==============================] - 20s 399us/step - loss: 0.7486 - acc: 0.7604 - val_loss: 1.5126 - val_acc: 0.4926\n",
      "Epoch 36/50\n",
      "50000/50000 [==============================] - 20s 398us/step - loss: 0.7304 - acc: 0.7671 - val_loss: 1.5299 - val_acc: 0.4947\n",
      "Epoch 37/50\n",
      "50000/50000 [==============================] - 20s 398us/step - loss: 0.7114 - acc: 0.7758 - val_loss: 1.5247 - val_acc: 0.4940\n",
      "Epoch 38/50\n",
      "50000/50000 [==============================] - 20s 405us/step - loss: 0.6903 - acc: 0.7825 - val_loss: 1.5447 - val_acc: 0.4945\n",
      "Epoch 39/50\n",
      "50000/50000 [==============================] - 20s 407us/step - loss: 0.6734 - acc: 0.7871 - val_loss: 1.5489 - val_acc: 0.4932\n",
      "Epoch 40/50\n",
      "50000/50000 [==============================] - 23s 465us/step - loss: 0.6550 - acc: 0.7969 - val_loss: 1.5689 - val_acc: 0.4866\n",
      "Epoch 41/50\n",
      "50000/50000 [==============================] - 21s 417us/step - loss: 0.6357 - acc: 0.8046 - val_loss: 1.5529 - val_acc: 0.4993\n",
      "Epoch 42/50\n",
      "50000/50000 [==============================] - 21s 423us/step - loss: 0.6177 - acc: 0.8108 - val_loss: 1.5799 - val_acc: 0.4932\n",
      "Epoch 43/50\n",
      "50000/50000 [==============================] - 20s 397us/step - loss: 0.6007 - acc: 0.8204 - val_loss: 1.6015 - val_acc: 0.4874\n",
      "Epoch 44/50\n",
      "50000/50000 [==============================] - 20s 398us/step - loss: 0.5837 - acc: 0.8260 - val_loss: 1.6120 - val_acc: 0.4960\n",
      "Epoch 45/50\n",
      "50000/50000 [==============================] - 20s 391us/step - loss: 0.5637 - acc: 0.8344 - val_loss: 1.6177 - val_acc: 0.4907\n",
      "Epoch 46/50\n",
      "50000/50000 [==============================] - 21s 429us/step - loss: 0.5458 - acc: 0.8417 - val_loss: 1.6138 - val_acc: 0.4960\n",
      "Epoch 47/50\n",
      "50000/50000 [==============================] - 27s 544us/step - loss: 0.5301 - acc: 0.8464 - val_loss: 1.6325 - val_acc: 0.4874\n",
      "Epoch 48/50\n",
      "50000/50000 [==============================] - 30s 592us/step - loss: 0.5125 - acc: 0.8546 - val_loss: 1.6748 - val_acc: 0.4790\n",
      "Epoch 49/50\n"
     ]
    },
    {
     "name": "stdout",
     "output_type": "stream",
     "text": [
      "50000/50000 [==============================] - 26s 514us/step - loss: 0.4970 - acc: 0.8598 - val_loss: 1.6545 - val_acc: 0.4880\n",
      "Epoch 50/50\n",
      "50000/50000 [==============================] - 24s 473us/step - loss: 0.4797 - acc: 0.8694 - val_loss: 1.6855 - val_acc: 0.4901\n",
      "10000/10000 [==============================] - 7s 673us/step\n"
     ]
    }
   ],
   "source": [
    "# 載入 Callbacks\n",
    "\"\"\"Code Here\n",
    "設定 callbacks: model checkpoint\n",
    "\"\"\"\n",
    "from keras.callbacks import ModelCheckpoint\n",
    "\n",
    "model_ckpt = ModelCheckpoint(filepath='./tmp.h5',monitor='val_loss',save_best_only=False)\n",
    "results = {}\n",
    "\"\"\"Code Here\n",
    "撰寫你的訓練流程並將結果用 dictionary 紀錄\n",
    "\"\"\"\n",
    "model = build_mlp(input_shape=x_train.shape[1:])\n",
    "model.summary()\n",
    "optimizer = keras.optimizers.SGD(lr=LEARNING_RATE,nesterov=True,momentum=MOMENTUM)\n",
    "model.compile(loss='categorical_crossentropy',metrics=['accuracy'],optimizer=optimizer)\n",
    "\n",
    "model.fit(x_train,y_train,epochs=EPOCHS,batch_size=BATCH_SIZE,validation_data=(x_test,y_test),shuffle=True,callbacks=[model_ckpt])\n",
    "\n",
    "train_loss = model.history.history['loss']\n",
    "valid_loss = model.history.history['val_loss']\n",
    "train_acc = model.history.history['acc']\n",
    "valid_acc = model.history.history['val_acc']\n",
    "\n",
    "model = keras.models.load_model('./tmp.h5')\n",
    "loss_loadback, acc_loadback = model.evaluate(x_test, y_test)"
   ]
  },
  {
   "cell_type": "code",
   "execution_count": 21,
   "metadata": {
    "scrolled": true
   },
   "outputs": [
    {
     "data": {
      "image/png": "[encoded data removed]",
      "text/plain": [
       "<Figure size 432x288 with 1 Axes>"
      ]
     },
     "metadata": {
      "needs_background": "light"
     },
     "output_type": "display_data"
    },
    {
     "data": {
      "image/png": "[encoded data removed]",
      "text/plain": [
       "<Figure size 432x288 with 1 Axes>"
      ]
     },
     "metadata": {
      "needs_background": "light"
     },
     "output_type": "display_data"
    }
   ],
   "source": [
    "import matplotlib.pyplot as plt\n",
    "%matplotlib inline\n",
    "\"\"\"Code Here\n",
    "將結果繪出\n",
    "\"\"\"\n",
    "plt.plot(range(len(train_loss)), train_loss, label=\"train loss\")\n",
    "plt.plot(range(len(valid_loss)), valid_loss, label=\"valid loss\")\n",
    "plt.plot(y=loss_loadback,xmin=0,xmax=len(train_loss),colors='r',linestyles='--')\n",
    "plt.legend()\n",
    "plt.title(\"Loss\")\n",
    "plt.show()\n",
    "\n",
    "plt.plot(range(len(train_acc)), train_acc, label=\"train accuracy\")\n",
    "plt.plot(range(len(valid_acc)), valid_acc, label=\"valid accuracy\")\n",
    "plt.hlines(y=acc_loadback, xmin=0, xmax=len(train_loss), colors='r', linestyles='--')\n",
    "plt.legend()\n",
    "plt.title(\"Accuracy\")\n",
    "plt.show()"
   ]
  }
 ],
 "metadata": {
  "kernelspec": {
   "display_name": "Python 3",
   "language": "python",
   "name": "python3"
  },
  "language_info": {
   "codemirror_mode": {
    "name": "ipython",
    "version": 3
   },
   "file_extension": ".py",
   "mimetype": "text/x-python",
   "name": "python",
   "nbconvert_exporter": "python",
   "pygments_lexer": "ipython3",
   "version": "3.7.3"
  }
 },
 "nbformat": 4,
 "nbformat_minor": 2
}
