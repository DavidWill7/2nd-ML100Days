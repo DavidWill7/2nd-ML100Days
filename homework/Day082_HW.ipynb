{
 "cells": [
  {
   "cell_type": "markdown",
   "metadata": {},
   "source": [
    "## Work\n",
    "1. 請比較使用不同層數以及不同 Dropout rate 對訓練的效果\n",
    "2. 將 optimizer 改成使用 Adam 並加上適當的 dropout rate 檢視結果"
   ]
  },
  {
   "cell_type": "code",
   "execution_count": 1,
   "metadata": {},
   "outputs": [
    {
     "name": "stderr",
     "output_type": "stream",
     "text": [
      "Using TensorFlow backend.\n"
     ]
    }
   ],
   "source": [
    "import os\n",
    "import keras\n",
    "import itertools\n",
    "# Disable GPU\n",
    "os.environ[\"CUDA_VISIBLE_DEVICES\"] = \"\""
   ]
  },
  {
   "cell_type": "code",
   "execution_count": 2,
   "metadata": {},
   "outputs": [],
   "source": [
    "train, test = keras.datasets.cifar10.load_data()"
   ]
  },
  {
   "cell_type": "code",
   "execution_count": 3,
   "metadata": {},
   "outputs": [],
   "source": [
    "## 資料前處理\n",
    "def preproc_x(x, flatten=True):\n",
    "    x = x / 255.\n",
    "    if flatten:\n",
    "        x = x.reshape((len(x), -1))\n",
    "    return x\n",
    "\n",
    "def preproc_y(y, num_classes=10):\n",
    "    if y.shape[-1] == 1:\n",
    "        y = keras.utils.to_categorical(y, num_classes)\n",
    "    return y    "
   ]
  },
  {
   "cell_type": "code",
   "execution_count": 13,
   "metadata": {},
   "outputs": [],
   "source": [
    "x_train, y_train = train\n",
    "x_test, y_test = test\n",
    "\n",
    "# Preproc the inputs\n",
    "x_train = preproc_x(x_train)\n",
    "x_test = preproc_x(x_test)\n",
    "\n",
    "# Preprc the outputs\n",
    "y_train = preproc_y(y_train)\n",
    "y_test = preproc_y(y_test)"
   ]
  },
  {
   "cell_type": "code",
   "execution_count": 73,
   "metadata": {},
   "outputs": [],
   "source": [
    "from keras.layers import Dropout\n",
    "\n",
    "def build_mlp(input_shape,output_units=10,num_neurons=[512,256,128],drop_ratio=0.2):\n",
    "    \n",
    "    input_layer = keras.layers.Input(input_shape)\n",
    "    \n",
    "    for i,n_units in enumerate(num_neurons):\n",
    "        if i == 0:\n",
    "            x = keras.layers.Dense(units=n_units,activation='relu',name='hidden_layer'+str(i+1))(input_layer)\n",
    "            x = keras.layers.Dense(units=n_units,activation='relu')(x)\n",
    "            x = keras.layers.Dropout(drop_ratio)(x)\n",
    "        else:\n",
    "            x = keras.layers.Dense(units=n_units,activation='relu',name='hidden_layer'+str(i+1))(x)\n",
    "            x = keras.layers.Dense(units=n_units,activation='relu')(x)\n",
    "            x = keras.layers.Dropout(drop_ratio)(x)\n",
    "    \n",
    "    out = keras.layers.Dense(units=output_units,activation='softmax',name='output')(x)\n",
    "    \n",
    "    model = keras.models.Model(inputs=[input_layer],outputs=[out])\n",
    "    \n",
    "    \n",
    "    return model"
   ]
  },
  {
   "cell_type": "code",
   "execution_count": 50,
   "metadata": {},
   "outputs": [],
   "source": [
    "\"\"\"Code Here\n",
    "設定超參數\n",
    "\"\"\"\n",
    "LEARNING_RATE = 1e-3\n",
    "BATCH_SIZE = 256\n",
    "EPOCHS = 50\n",
    "MOMENTUM = 0.95\n",
    "Dropout_EXP = 0.35"
   ]
  },
  {
   "cell_type": "code",
   "execution_count": 74,
   "metadata": {
    "scrolled": true
   },
   "outputs": [
    {
     "name": "stdout",
     "output_type": "stream",
     "text": [
      "_________________________________________________________________\n",
      "Layer (type)                 Output Shape              Param #   \n",
      "=================================================================\n",
      "input_22 (InputLayer)        (None, 3072)              0         \n",
      "_________________________________________________________________\n",
      "hidden_layer1 (Dense)        (None, 512)               1573376   \n",
      "_________________________________________________________________\n",
      "dense_15 (Dense)             (None, 512)               262656    \n",
      "_________________________________________________________________\n",
      "dropout_62 (Dropout)         (None, 512)               0         \n",
      "_________________________________________________________________\n",
      "hidden_layer2 (Dense)        (None, 256)               131328    \n",
      "_________________________________________________________________\n",
      "dense_16 (Dense)             (None, 256)               65792     \n",
      "_________________________________________________________________\n",
      "dropout_63 (Dropout)         (None, 256)               0         \n",
      "_________________________________________________________________\n",
      "hidden_layer3 (Dense)        (None, 128)               32896     \n",
      "_________________________________________________________________\n",
      "dense_17 (Dense)             (None, 128)               16512     \n",
      "_________________________________________________________________\n",
      "dropout_64 (Dropout)         (None, 128)               0         \n",
      "_________________________________________________________________\n",
      "output (Dense)               (None, 10)                1290      \n",
      "=================================================================\n",
      "Total params: 2,083,850\n",
      "Trainable params: 2,083,850\n",
      "Non-trainable params: 0\n",
      "_________________________________________________________________\n",
      "Train on 50000 samples, validate on 10000 samples\n",
      "Epoch 1/50\n",
      "50000/50000 [==============================] - 25s 500us/step - loss: 2.1006 - acc: 0.1971 - val_loss: 1.9058 - val_acc: 0.2836\n",
      "Epoch 2/50\n",
      "50000/50000 [==============================] - 11s 225us/step - loss: 1.8794 - acc: 0.3154 - val_loss: 1.7577 - val_acc: 0.3590\n",
      "Epoch 3/50\n",
      "50000/50000 [==============================] - 11s 224us/step - loss: 1.7866 - acc: 0.3549 - val_loss: 1.7558 - val_acc: 0.3743\n",
      "Epoch 4/50\n",
      "50000/50000 [==============================] - 11s 220us/step - loss: 1.7403 - acc: 0.3760 - val_loss: 1.6499 - val_acc: 0.4077\n",
      "Epoch 5/50\n",
      "50000/50000 [==============================] - 11s 220us/step - loss: 1.6928 - acc: 0.3928 - val_loss: 1.6493 - val_acc: 0.4102\n",
      "Epoch 6/50\n",
      "50000/50000 [==============================] - 11s 216us/step - loss: 1.6544 - acc: 0.4102 - val_loss: 1.5780 - val_acc: 0.4379\n",
      "Epoch 7/50\n",
      "50000/50000 [==============================] - 11s 217us/step - loss: 1.6139 - acc: 0.4249 - val_loss: 1.5584 - val_acc: 0.4458\n",
      "Epoch 8/50\n",
      "50000/50000 [==============================] - 11s 217us/step - loss: 1.5883 - acc: 0.4327 - val_loss: 1.5423 - val_acc: 0.4523\n",
      "Epoch 9/50\n",
      "50000/50000 [==============================] - 11s 217us/step - loss: 1.5585 - acc: 0.4492 - val_loss: 1.5404 - val_acc: 0.4557\n",
      "Epoch 10/50\n",
      "50000/50000 [==============================] - 11s 217us/step - loss: 1.5399 - acc: 0.4564 - val_loss: 1.5102 - val_acc: 0.4653\n",
      "Epoch 11/50\n",
      "50000/50000 [==============================] - 11s 219us/step - loss: 1.5167 - acc: 0.4648 - val_loss: 1.4890 - val_acc: 0.4659\n",
      "Epoch 12/50\n",
      "50000/50000 [==============================] - 11s 221us/step - loss: 1.5051 - acc: 0.4655 - val_loss: 1.4783 - val_acc: 0.4740\n",
      "Epoch 13/50\n",
      "50000/50000 [==============================] - 11s 217us/step - loss: 1.4793 - acc: 0.4773 - val_loss: 1.5058 - val_acc: 0.4698\n",
      "Epoch 14/50\n",
      "50000/50000 [==============================] - 11s 220us/step - loss: 1.4671 - acc: 0.4818 - val_loss: 1.5177 - val_acc: 0.4591\n",
      "Epoch 15/50\n",
      "50000/50000 [==============================] - 11s 218us/step - loss: 1.4533 - acc: 0.4840 - val_loss: 1.5105 - val_acc: 0.4553\n",
      "Epoch 16/50\n",
      "50000/50000 [==============================] - 11s 217us/step - loss: 1.4363 - acc: 0.4913 - val_loss: 1.4647 - val_acc: 0.4809\n",
      "Epoch 17/50\n",
      "50000/50000 [==============================] - 11s 216us/step - loss: 1.4277 - acc: 0.4934 - val_loss: 1.4539 - val_acc: 0.4861\n",
      "Epoch 18/50\n",
      "50000/50000 [==============================] - 11s 218us/step - loss: 1.4136 - acc: 0.5001 - val_loss: 1.4655 - val_acc: 0.4857\n",
      "Epoch 19/50\n",
      "50000/50000 [==============================] - 11s 219us/step - loss: 1.3921 - acc: 0.5085 - val_loss: 1.4250 - val_acc: 0.5012\n",
      "Epoch 20/50\n",
      "50000/50000 [==============================] - 11s 219us/step - loss: 1.3833 - acc: 0.5112 - val_loss: 1.4508 - val_acc: 0.4877\n",
      "Epoch 21/50\n",
      "50000/50000 [==============================] - 11s 216us/step - loss: 1.3740 - acc: 0.5157 - val_loss: 1.4404 - val_acc: 0.4945\n",
      "Epoch 22/50\n",
      "50000/50000 [==============================] - 11s 217us/step - loss: 1.3697 - acc: 0.5170 - val_loss: 1.4114 - val_acc: 0.5032\n",
      "Epoch 23/50\n",
      "50000/50000 [==============================] - 11s 216us/step - loss: 1.3547 - acc: 0.5221 - val_loss: 1.4539 - val_acc: 0.4902\n",
      "Epoch 24/50\n",
      "50000/50000 [==============================] - 11s 218us/step - loss: 1.3407 - acc: 0.5271 - val_loss: 1.3965 - val_acc: 0.5093\n",
      "Epoch 25/50\n",
      "50000/50000 [==============================] - 11s 216us/step - loss: 1.3264 - acc: 0.5287 - val_loss: 1.4434 - val_acc: 0.4907\n",
      "Epoch 26/50\n",
      "50000/50000 [==============================] - 11s 219us/step - loss: 1.3191 - acc: 0.5329 - val_loss: 1.4334 - val_acc: 0.5009\n",
      "Epoch 27/50\n",
      "50000/50000 [==============================] - 11s 217us/step - loss: 1.3075 - acc: 0.5369 - val_loss: 1.4010 - val_acc: 0.5039\n",
      "Epoch 28/50\n",
      "50000/50000 [==============================] - 11s 225us/step - loss: 1.2939 - acc: 0.5433 - val_loss: 1.3921 - val_acc: 0.5112\n",
      "Epoch 29/50\n",
      "50000/50000 [==============================] - 11s 218us/step - loss: 1.2846 - acc: 0.5440 - val_loss: 1.4284 - val_acc: 0.4972\n",
      "Epoch 30/50\n",
      "50000/50000 [==============================] - 11s 218us/step - loss: 1.2812 - acc: 0.5448 - val_loss: 1.3799 - val_acc: 0.5103\n",
      "Epoch 31/50\n",
      "50000/50000 [==============================] - 11s 219us/step - loss: 1.2669 - acc: 0.5498 - val_loss: 1.4002 - val_acc: 0.5091\n",
      "Epoch 32/50\n",
      "50000/50000 [==============================] - 12s 239us/step - loss: 1.2610 - acc: 0.5537 - val_loss: 1.3870 - val_acc: 0.5161\n",
      "Epoch 33/50\n",
      "50000/50000 [==============================] - 11s 219us/step - loss: 1.2535 - acc: 0.5575 - val_loss: 1.4080 - val_acc: 0.5138\n",
      "Epoch 34/50\n",
      "50000/50000 [==============================] - 11s 217us/step - loss: 1.2483 - acc: 0.5569 - val_loss: 1.4365 - val_acc: 0.4987\n",
      "Epoch 35/50\n",
      "50000/50000 [==============================] - 11s 217us/step - loss: 1.2379 - acc: 0.5630 - val_loss: 1.4135 - val_acc: 0.5106\n",
      "Epoch 36/50\n",
      "50000/50000 [==============================] - 11s 219us/step - loss: 1.2303 - acc: 0.5664 - val_loss: 1.4354 - val_acc: 0.5063\n",
      "Epoch 37/50\n",
      "50000/50000 [==============================] - 12s 231us/step - loss: 1.2159 - acc: 0.5679 - val_loss: 1.4108 - val_acc: 0.5110\n",
      "Epoch 38/50\n",
      "50000/50000 [==============================] - 12s 234us/step - loss: 1.2073 - acc: 0.5735 - val_loss: 1.4197 - val_acc: 0.5056\n",
      "Epoch 39/50\n",
      "50000/50000 [==============================] - 11s 222us/step - loss: 1.2072 - acc: 0.5698 - val_loss: 1.4141 - val_acc: 0.5108\n",
      "Epoch 40/50\n",
      "50000/50000 [==============================] - 16s 321us/step - loss: 1.1961 - acc: 0.5745 - val_loss: 1.4506 - val_acc: 0.5041\n",
      "Epoch 41/50\n",
      "50000/50000 [==============================] - 13s 260us/step - loss: 1.1894 - acc: 0.5759 - val_loss: 1.4201 - val_acc: 0.5109\n",
      "Epoch 42/50\n",
      "50000/50000 [==============================] - 13s 255us/step - loss: 1.1901 - acc: 0.5789 - val_loss: 1.4013 - val_acc: 0.5109\n",
      "Epoch 43/50\n",
      "50000/50000 [==============================] - 12s 245us/step - loss: 1.1799 - acc: 0.5777 - val_loss: 1.4331 - val_acc: 0.5160\n",
      "Epoch 44/50\n",
      "50000/50000 [==============================] - 13s 255us/step - loss: 1.1733 - acc: 0.5845 - val_loss: 1.3987 - val_acc: 0.5134\n",
      "Epoch 45/50\n",
      "50000/50000 [==============================] - 12s 233us/step - loss: 1.1637 - acc: 0.5845 - val_loss: 1.4009 - val_acc: 0.5141\n",
      "Epoch 46/50\n"
     ]
    },
    {
     "name": "stdout",
     "output_type": "stream",
     "text": [
      "50000/50000 [==============================] - 11s 220us/step - loss: 1.1606 - acc: 0.5896 - val_loss: 1.4064 - val_acc: 0.5202\n",
      "Epoch 47/50\n",
      "50000/50000 [==============================] - 11s 221us/step - loss: 1.1462 - acc: 0.5927 - val_loss: 1.4121 - val_acc: 0.5211\n",
      "Epoch 48/50\n",
      "50000/50000 [==============================] - 11s 229us/step - loss: 1.1439 - acc: 0.5938 - val_loss: 1.4278 - val_acc: 0.5063\n",
      "Epoch 49/50\n",
      "50000/50000 [==============================] - 11s 220us/step - loss: 1.1312 - acc: 0.5977 - val_loss: 1.4220 - val_acc: 0.5179\n",
      "Epoch 50/50\n",
      "50000/50000 [==============================] - 11s 225us/step - loss: 1.1268 - acc: 0.5983 - val_loss: 1.4142 - val_acc: 0.5196\n"
     ]
    }
   ],
   "source": [
    "results = {}\n",
    "\"\"\"Code Here\n",
    "撰寫你的訓練流程並將結果用 dictionary 紀錄\n",
    "\"\"\"\n",
    "model = build_mlp(input_shape=x_train.shape[1:],drop_ratio=Dropout_EXP)\n",
    "model.summary()\n",
    "optimizer = keras.optimizers.Adam(lr=LEARNING_RATE)\n",
    "\n",
    "model.compile(loss='categorical_crossentropy',metrics=['accuracy'],optimizer=optimizer)\n",
    "\n",
    "model.fit(x_train,y_train,epochs=EPOCHS,batch_size=BATCH_SIZE,validation_data=(x_test,y_test),shuffle=True)\n",
    "\n",
    "train_loss = model.history.history['loss']\n",
    "valid_loss = model.history.history['val_loss']\n",
    "train_acc = model.history.history['acc']\n",
    "valid_acc = model.history.history['val_acc']"
   ]
  },
  {
   "cell_type": "code",
   "execution_count": 80,
   "metadata": {},
   "outputs": [
    {
     "data": {
      "image/png": "[encoded data removed]",
      "text/plain": [
       "<Figure size 432x288 with 1 Axes>"
      ]
     },
     "metadata": {
      "needs_background": "light"
     },
     "output_type": "display_data"
    },
    {
     "data": {
      "image/png": "[encoded data removed]",
      "text/plain": [
       "<Figure size 432x288 with 1 Axes>"
      ]
     },
     "metadata": {
      "needs_background": "light"
     },
     "output_type": "display_data"
    }
   ],
   "source": [
    "import matplotlib.pyplot as plt\n",
    "%matplotlib inline\n",
    "\"\"\"Code Here\n",
    "將結果繪出\n",
    "\"\"\"\n",
    "plt.plot(range(len(train_loss)),train_loss,label='train loss')\n",
    "plt.plot(range(len(valid_loss)),valid_loss,label='valid loss')\n",
    "plt.legend()\n",
    "plt.title('loss')\n",
    "plt.show()\n",
    "\n",
    "plt.plot(range(len(train_acc)),train_acc,label='train acc')\n",
    "plt.plot(range(len(valid_acc)),valid_acc,label='valid acc')\n",
    "plt.legend()\n",
    "plt.title('acc')\n",
    "plt.show()"
   ]
  },
  {
   "cell_type": "code",
   "execution_count": 85,
   "metadata": {},
   "outputs": [],
   "source": [
    "from keras.layers import Dropout\n",
    "\n",
    "def build_mlp(input_shape,output_units=10,num_neurons=[512,256,128],drop_ratio=0.2):\n",
    "    \n",
    "    input_layer = keras.layers.Input(input_shape)\n",
    "    \n",
    "    for i,n_units in enumerate(num_neurons):\n",
    "        if i == 0:\n",
    "            x = keras.layers.Dense(units=n_units,activation='relu',name='hidden_layer'+str(i+1))(input_layer)\n",
    "           # x = keras.layers.Dense(units=n_units,activation='relu')(x)\n",
    "            x = keras.layers.Dropout(drop_ratio)(x)\n",
    "        else:\n",
    "            x = keras.layers.Dense(units=n_units,activation='relu',name='hidden_layer'+str(i+1))(x)\n",
    "          #  x = keras.layers.Dense(units=n_units,activation='relu')(x)\n",
    "            x = keras.layers.Dropout(drop_ratio)(x)\n",
    "    \n",
    "    out = keras.layers.Dense(units=output_units,activation='softmax',name='output')(x)\n",
    "    \n",
    "    model = keras.models.Model(inputs=[input_layer],outputs=[out])\n",
    "    \n",
    "    \n",
    "    return model"
   ]
  },
  {
   "cell_type": "code",
   "execution_count": 86,
   "metadata": {},
   "outputs": [],
   "source": [
    "\"\"\"Code Here\n",
    "設定超參數\n",
    "\"\"\"\n",
    "LEARNING_RATE = 1e-3\n",
    "BATCH_SIZE = 256\n",
    "EPOCHS = 50\n",
    "MOMENTUM = 0.95\n",
    "Dropout_EXP = 0.0001"
   ]
  },
  {
   "cell_type": "code",
   "execution_count": 87,
   "metadata": {},
   "outputs": [
    {
     "name": "stdout",
     "output_type": "stream",
     "text": [
      "_________________________________________________________________\n",
      "Layer (type)                 Output Shape              Param #   \n",
      "=================================================================\n",
      "input_25 (InputLayer)        (None, 3072)              0         \n",
      "_________________________________________________________________\n",
      "hidden_layer1 (Dense)        (None, 512)               1573376   \n",
      "_________________________________________________________________\n",
      "dropout_72 (Dropout)         (None, 512)               0         \n",
      "_________________________________________________________________\n",
      "hidden_layer2 (Dense)        (None, 256)               131328    \n",
      "_________________________________________________________________\n",
      "dropout_73 (Dropout)         (None, 256)               0         \n",
      "_________________________________________________________________\n",
      "hidden_layer3 (Dense)        (None, 128)               32896     \n",
      "_________________________________________________________________\n",
      "dropout_74 (Dropout)         (None, 128)               0         \n",
      "_________________________________________________________________\n",
      "output (Dense)               (None, 10)                1290      \n",
      "=================================================================\n",
      "Total params: 1,738,890\n",
      "Trainable params: 1,738,890\n",
      "Non-trainable params: 0\n",
      "_________________________________________________________________\n",
      "Train on 50000 samples, validate on 10000 samples\n",
      "Epoch 1/50\n",
      "50000/50000 [==============================] - 11s 216us/step - loss: 1.9137 - acc: 0.3009 - val_loss: 1.7657 - val_acc: 0.3640\n",
      "Epoch 2/50\n",
      "50000/50000 [==============================] - 10s 192us/step - loss: 1.7000 - acc: 0.3908 - val_loss: 1.6510 - val_acc: 0.4007\n",
      "Epoch 3/50\n",
      "50000/50000 [==============================] - 9s 189us/step - loss: 1.6149 - acc: 0.4200 - val_loss: 1.6009 - val_acc: 0.4243\n",
      "Epoch 4/50\n",
      "50000/50000 [==============================] - 10s 194us/step - loss: 1.5529 - acc: 0.4445 - val_loss: 1.5601 - val_acc: 0.4388\n",
      "Epoch 5/50\n",
      "50000/50000 [==============================] - 10s 200us/step - loss: 1.5010 - acc: 0.4647 - val_loss: 1.5069 - val_acc: 0.4585\n",
      "Epoch 6/50\n",
      "50000/50000 [==============================] - 10s 199us/step - loss: 1.4652 - acc: 0.4762 - val_loss: 1.4833 - val_acc: 0.4681\n",
      "Epoch 7/50\n",
      "50000/50000 [==============================] - 10s 194us/step - loss: 1.4342 - acc: 0.4879 - val_loss: 1.4969 - val_acc: 0.4615\n",
      "Epoch 8/50\n",
      "50000/50000 [==============================] - 9s 184us/step - loss: 1.3946 - acc: 0.5026 - val_loss: 1.4800 - val_acc: 0.4791\n",
      "Epoch 9/50\n",
      "50000/50000 [==============================] - 9s 184us/step - loss: 1.3651 - acc: 0.5146 - val_loss: 1.4458 - val_acc: 0.4807\n",
      "Epoch 10/50\n",
      "50000/50000 [==============================] - 11s 216us/step - loss: 1.3331 - acc: 0.5250 - val_loss: 1.4812 - val_acc: 0.4801\n",
      "Epoch 11/50\n",
      "50000/50000 [==============================] - 10s 192us/step - loss: 1.3016 - acc: 0.5351 - val_loss: 1.3845 - val_acc: 0.5101\n",
      "Epoch 12/50\n",
      "50000/50000 [==============================] - 9s 185us/step - loss: 1.2867 - acc: 0.5420 - val_loss: 1.3971 - val_acc: 0.5049\n",
      "Epoch 13/50\n",
      "50000/50000 [==============================] - 13s 252us/step - loss: 1.2521 - acc: 0.5538 - val_loss: 1.4129 - val_acc: 0.4981\n",
      "Epoch 14/50\n",
      "50000/50000 [==============================] - 16s 329us/step - loss: 1.2342 - acc: 0.5594 - val_loss: 1.3728 - val_acc: 0.5206\n",
      "Epoch 15/50\n",
      "50000/50000 [==============================] - 10s 190us/step - loss: 1.2160 - acc: 0.5663 - val_loss: 1.3599 - val_acc: 0.5213\n",
      "Epoch 16/50\n",
      "50000/50000 [==============================] - 9s 174us/step - loss: 0.9603 - acc: 0.6573 - val_loss: 1.4154 - val_acc: 0.5291\n",
      "Epoch 28/50\n",
      "50000/50000 [==============================] - 9s 172us/step - loss: 0.9500 - acc: 0.6599 - val_loss: 1.4180 - val_acc: 0.5310\n",
      "Epoch 29/50\n",
      "50000/50000 [==============================] - 9s 188us/step - loss: 0.9274 - acc: 0.6683 - val_loss: 1.4275 - val_acc: 0.5344\n",
      "Epoch 30/50\n",
      "50000/50000 [==============================] - 11s 225us/step - loss: 0.9170 - acc: 0.6725 - val_loss: 1.4504 - val_acc: 0.5303\n",
      "Epoch 31/50\n",
      "50000/50000 [==============================] - 9s 188us/step - loss: 0.8911 - acc: 0.6829 - val_loss: 1.4493 - val_acc: 0.5294\n",
      "Epoch 32/50\n",
      "50000/50000 [==============================] - 11s 219us/step - loss: 0.8699 - acc: 0.6878 - val_loss: 1.4921 - val_acc: 0.5220\n",
      "Epoch 33/50\n",
      "50000/50000 [==============================] - 10s 204us/step - loss: 0.7162 - acc: 0.7419 - val_loss: 1.6611 - val_acc: 0.5187\n",
      "Epoch 42/50\n",
      "50000/50000 [==============================] - 10s 196us/step - loss: 0.7111 - acc: 0.7467 - val_loss: 1.6749 - val_acc: 0.5086\n",
      "Epoch 43/50\n",
      "50000/50000 [==============================] - 11s 218us/step - loss: 0.6980 - acc: 0.7497 - val_loss: 1.7037 - val_acc: 0.5185\n",
      "Epoch 44/50\n",
      "50000/50000 [==============================] - 10s 196us/step - loss: 0.6918 - acc: 0.7518 - val_loss: 1.6923 - val_acc: 0.5245\n",
      "Epoch 45/50\n",
      "50000/50000 [==============================] - 10s 193us/step - loss: 0.6464 - acc: 0.7680 - val_loss: 1.7455 - val_acc: 0.5186\n",
      "Epoch 46/50\n",
      "50000/50000 [==============================] - 10s 195us/step - loss: 0.6555 - acc: 0.7657 - val_loss: 1.7834 - val_acc: 0.5076\n",
      "Epoch 47/50\n",
      "50000/50000 [==============================] - 10s 195us/step - loss: 0.6409 - acc: 0.7703 - val_loss: 1.7872 - val_acc: 0.5202\n",
      "Epoch 48/50\n",
      "50000/50000 [==============================] - 12s 246us/step - loss: 0.6194 - acc: 0.7785 - val_loss: 1.7797 - val_acc: 0.5204\n",
      "Epoch 49/50\n",
      "50000/50000 [==============================] - 13s 257us/step - loss: 0.6091 - acc: 0.7821 - val_loss: 1.8304 - val_acc: 0.5109\n",
      "Epoch 50/50\n",
      "50000/50000 [==============================] - 11s 212us/step - loss: 0.6066 - acc: 0.7815 - val_loss: 1.8695 - val_acc: 0.5145\n"
     ]
    }
   ],
   "source": [
    "results = {}\n",
    "\"\"\"Code Here\n",
    "撰寫你的訓練流程並將結果用 dictionary 紀錄\n",
    "\"\"\"\n",
    "model = build_mlp(input_shape=x_train.shape[1:],drop_ratio=Dropout_EXP)\n",
    "model.summary()\n",
    "optimizer = keras.optimizers.Adam(lr=LEARNING_RATE)\n",
    "\n",
    "model.compile(loss='categorical_crossentropy',metrics=['accuracy'],optimizer=optimizer)\n",
    "\n",
    "model.fit(x_train,y_train,epochs=EPOCHS,batch_size=BATCH_SIZE,validation_data=(x_test,y_test),shuffle=True)\n",
    "\n",
    "train_loss = model.history.history['loss']\n",
    "valid_loss = model.history.history['val_loss']\n",
    "train_acc = model.history.history['acc']\n",
    "valid_acc = model.history.history['val_acc']"
   ]
  },
  {
   "cell_type": "code",
   "execution_count": 88,
   "metadata": {},
   "outputs": [
    {
     "data": {
      "image/png": "[encoded data removed]",
      "text/plain": [
       "<Figure size 432x288 with 1 Axes>"
      ]
     },
     "metadata": {
      "needs_background": "light"
     },
     "output_type": "display_data"
    },
    {
     "data": {
      "image/png": "[encoded data removed]",
      "text/plain": [
       "<Figure size 432x288 with 1 Axes>"
      ]
     },
     "metadata": {
      "needs_background": "light"
     },
     "output_type": "display_data"
    }
   ],
   "source": [
    "import matplotlib.pyplot as plt\n",
    "%matplotlib inline\n",
    "\"\"\"Code Here\n",
    "將結果繪出\n",
    "\"\"\"\n",
    "plt.plot(range(len(train_loss)),train_loss,label='train loss')\n",
    "plt.plot(range(len(valid_loss)),valid_loss,label='valid loss')\n",
    "plt.legend()\n",
    "plt.title('loss')\n",
    "plt.show()\n",
    "\n",
    "plt.plot(range(len(train_acc)),train_acc,label='train acc')\n",
    "plt.plot(range(len(valid_acc)),valid_acc,label='valid acc')\n",
    "plt.legend()\n",
    "plt.title('acc')\n",
    "plt.show()"
   ]
  }
 ],
 "metadata": {
  "kernelspec": {
   "display_name": "Python 3",
   "language": "python",
   "name": "python3"
  },
  "language_info": {
   "codemirror_mode": {
    "name": "ipython",
    "version": 3
   },
   "file_extension": ".py",
   "mimetype": "text/x-python",
   "name": "python",
   "nbconvert_exporter": "python",
   "pygments_lexer": "ipython3",
   "version": "3.7.3"
  }
 },
 "nbformat": 4,
 "nbformat_minor": 2
}
